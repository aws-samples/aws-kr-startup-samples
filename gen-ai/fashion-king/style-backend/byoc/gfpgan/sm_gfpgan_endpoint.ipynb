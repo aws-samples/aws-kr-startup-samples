{
 "cells": [
  {
   "cell_type": "code",
   "execution_count": 27,
   "id": "ee7e6015-0b4d-40fc-abd7-47d5ec5a67b6",
   "metadata": {},
   "outputs": [],
   "source": [
    "import boto3\n",
    "from time import gmtime, strftime\n",
    "\n",
    "sm_client = boto3.client('sagemaker')"
   ]
  },
  {
   "cell_type": "code",
   "execution_count": 28,
   "id": "05b06e9a-33e5-448e-9d14-7ed1e0651e86",
   "metadata": {},
   "outputs": [
    {
     "name": "stdout",
     "output_type": "stream",
     "text": [
      "Model name: bedrock-x-gfpgan-2024-06-20-09-28-49\n",
      "Container image: 891376917605.dkr.ecr.us-west-2.amazonaws.com/bedrock-x-gfpgan:latest\n",
      "Model Arn: arn:aws:sagemaker:us-west-2:891376917605:model/bedrock-x-gfpgan-2024-06-20-09-28-49\n"
     ]
    }
   ],
   "source": [
    "# Create Sagemaker Model\n",
    "\n",
    "model_name = 'bedrock-x' + '-gfpgan-' + strftime(\"%Y-%m-%d-%H-%M-%S\", gmtime())\n",
    "container = '891376917605.dkr.ecr.us-west-2.amazonaws.com/bedrock-x-gfpgan:latest'\n",
    "instance_type = 'ml.g4dn.xlarge'\n",
    "\n",
    "print('Model name: ' + model_name)\n",
    "print('Container image: ' + container)\n",
    "\n",
    "create_model_response = sm_client.create_model(\n",
    "    ModelName=model_name,\n",
    "    PrimaryContainer={\n",
    "        'Image': container,\n",
    "        'Environment': {}\n",
    "    },\n",
    "    ExecutionRoleArn='arn:aws:iam::891376917605:role/sm-excution-role-bedrock-x'\n",
    ")\n",
    "\n",
    "print(\"Model Arn: \" + create_model_response['ModelArn'])"
   ]
  },
  {
   "cell_type": "code",
   "execution_count": 29,
   "id": "e80b6df4-7159-4a42-a81a-fdbf6c1f37e5",
   "metadata": {},
   "outputs": [
    {
     "name": "stdout",
     "output_type": "stream",
     "text": [
      "Endpoint config name: bedrock-x-gfpgan-2024-06-20-09-28-49\n",
      "Endpoint config Arn: arn:aws:sagemaker:us-west-2:891376917605:endpoint-config/bedrock-x-gfpgan-2024-06-20-09-28-49\n"
     ]
    }
   ],
   "source": [
    "# Create Sagemaker Endpoint Config\n",
    "endpoint_config_name = 'bedrock-x' + '-gfpgan-' + strftime(\"%Y-%m-%d-%H-%M-%S\", gmtime())\n",
    "print('Endpoint config name: ' + endpoint_config_name)\n",
    "\n",
    "create_endpoint_config_response = sm_client.create_endpoint_config(\n",
    "    EndpointConfigName = endpoint_config_name, \n",
    "    ProductionVariants = [{\n",
    "        'ModelName': model_name,\n",
    "        'VariantName': 'AllTraffic',\n",
    "        'InitialInstanceCount': 1,\n",
    "        'InstanceType': instance_type\n",
    "    }])\n",
    "\n",
    "print(\"Endpoint config Arn: \" + create_endpoint_config_response['EndpointConfigArn'])"
   ]
  },
  {
   "cell_type": "code",
   "execution_count": 30,
   "id": "b7a45570-5ab5-44c7-8c93-14d3fa820bd0",
   "metadata": {},
   "outputs": [
    {
     "name": "stdout",
     "output_type": "stream",
     "text": [
      "Endpoint name: bedrock-x-gfpgan-2024-06-20-09-28-50\n",
      "Endpoint Arn: arn:aws:sagemaker:us-west-2:891376917605:endpoint/bedrock-x-gfpgan-2024-06-20-09-28-50\n",
      "Endpoint Status: Creating\n",
      "Waiting for bedrock-x-gfpgan-2024-06-20-09-28-50 endpoint to be in service...\n"
     ]
    }
   ],
   "source": [
    "endpoint_name = 'bedrock-x' + '-gfpgan-' + strftime(\"%Y-%m-%d-%H-%M-%S\", gmtime())\n",
    "print('Endpoint name: ' + endpoint_name)\n",
    "\n",
    "create_endpoint_response = sm_client.create_endpoint(\n",
    "    EndpointName=endpoint_name,\n",
    "    EndpointConfigName=endpoint_config_name)\n",
    "print('Endpoint Arn: ' + create_endpoint_response['EndpointArn'])\n",
    "\n",
    "resp = sm_client.describe_endpoint(EndpointName=endpoint_name)\n",
    "status = resp['EndpointStatus']\n",
    "print(\"Endpoint Status: \" + status)\n",
    "\n",
    "print('Waiting for {} endpoint to be in service...'.format(endpoint_name))\n",
    "waiter = sm_client.get_waiter('endpoint_in_service')\n",
    "waiter.wait(EndpointName=endpoint_name)"
   ]
  },
  {
   "cell_type": "code",
   "execution_count": 31,
   "id": "c1ef5694-1fab-4f76-a1ff-6f68b23d2b89",
   "metadata": {},
   "outputs": [
    {
     "data": {
      "text/plain": [
       "{'bucket': 'bedrock-x-sm-shared',\n",
       " 'output': 'images/output/output_restore.png',\n",
       " 'source': 'images/output/output.png',\n",
       " 'uuid': 'sample'}"
      ]
     },
     "execution_count": 31,
     "metadata": {},
     "output_type": "execute_result"
    }
   ],
   "source": [
    "import json\n",
    "\n",
    "runtime_sm_client = boto3.client(service_name='sagemaker-runtime')\n",
    "\n",
    "content_type = \"application/json\"\n",
    "request_body = {\n",
    "    \"uuid\": \"sample\", \n",
    "    \"bucket\": \"bedrock-x-sm-shared\", \n",
    "    \"source\": \"images/output/output.png\", \n",
    "    \"output\": \"images/output/output_restore.png\"\n",
    "}\n",
    "\n",
    "payload = json.dumps(request_body)\n",
    "\n",
    "#Endpoint invocation\n",
    "response = runtime_sm_client.invoke_endpoint(\n",
    "    EndpointName=endpoint_name,\n",
    "    ContentType=content_type,\n",
    "    Body=payload)\n",
    "\n",
    "#Parse results\n",
    "result = json.loads(response['Body'].read().decode())\n",
    "result"
   ]
  },
  {
   "cell_type": "code",
   "execution_count": null,
   "id": "07d2e39b-3efd-4ad9-a6ae-5ec7af6d74da",
   "metadata": {},
   "outputs": [],
   "source": []
  }
 ],
 "metadata": {
  "kernelspec": {
   "display_name": "conda_pytorch_p310",
   "language": "python",
   "name": "conda_pytorch_p310"
  },
  "language_info": {
   "codemirror_mode": {
    "name": "ipython",
    "version": 3
   },
   "file_extension": ".py",
   "mimetype": "text/x-python",
   "name": "python",
   "nbconvert_exporter": "python",
   "pygments_lexer": "ipython3",
   "version": "3.10.14"
  }
 },
 "nbformat": 4,
 "nbformat_minor": 5
}
