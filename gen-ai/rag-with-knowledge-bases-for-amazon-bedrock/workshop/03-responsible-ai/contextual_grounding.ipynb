{
 "cells": [
  {
   "cell_type": "markdown",
   "id": "b0990bbd-0159-48f2-bba6-3b28dca6c4f6",
   "metadata": {},
   "source": [
    "# Guardrails Contextual Grounding과 Knowledge Base 결합하기\n",
    "이 노트북은 Amazon Bedrock Guardrails의 contextual grounding 필터를 Amazon Bedrock Knowledge Bases와 결합하는 방법을 보여 줍니다. 이렇게 하면 모델 응답이 Knowledge Base에 저장된 정보에 기반해 사실적으로 정렬되도록 보장할 수 있습니다.\n",
    "\n",
    "이 노트북에서는 [D&D Systems Reference Document(SRD)](https://www.dndbeyond.com/resources/1781-systems-reference-document-srd)(CC-BY-4.0)을 Knowledge Base에 저장해 사용합니다.  "
   ]
  },
  {
   "cell_type": "markdown",
   "id": "f4847b39-cc13-4ade-9354-37d9f0dd44f7",
   "metadata": {},
   "source": [
    "이 노트북에서 수행할 작업:\n",
    "1. **라이브러리 임포트:** 노트북이 올바르게 동작하도록 필요한 라이브러리를 로드합니다. \n",
    "2. **Knowledge Base 생성:** D&D Systems Reference Document를 Amazon Bedrock의 관리형 Knowledge Base에 저장합니다. \n",
    "3. **Guardrail 구성:** contextual grounding 필터 임계값으로 Guardrail을 구성합니다.\n",
    "4. **Contextual grounding 테스트:** Knowledge Base에서 컨텍스트를 검색해 질의와 함께 LLM에 전달하고 환각 여부를 평가합니다. \n",
    "5. **리소스 삭제:** 비용 절감을 위해 생성한 모든 리소스를 삭제합니다. "
   ]
  },
  {
   "cell_type": "markdown",
   "id": "5ed816ff-4a40-4c7f-9487-317eb06ad7ed",
   "metadata": {},
   "source": [
    "<div class=\"alert alert-block alert-info\">\n",
    "<b>참고:</b> 이 노트북은 `Anthropic Claude 3 Sonnet`과 `Titan Embedding Text V2` 모델을 사용하므로 Amazon Bedrock 콘솔에서 해당 모델에 대한 접근 권한을 활성화하세요.\n",
    "</div>"
   ]
  },
  {
   "cell_type": "markdown",
   "id": "b365cc77-4b27-4a20-9b0f-2ba0075a0a6a",
   "metadata": {},
   "source": [
    "## 1. 라이브러리 임포트"
   ]
  },
  {
   "cell_type": "code",
   "execution_count": null,
   "id": "7fd96469-b93e-4344-aba3-4e4937d92067",
   "metadata": {},
   "outputs": [],
   "source": [
    "%pip install --upgrade pip --quiet\n",
    "%pip install -r ../requirements.txt --no-deps --quiet\n",
    "%pip install -r ../requirements.txt --upgrade --quiet"
   ]
  },
  {
   "cell_type": "markdown",
   "id": "e0780ba0",
   "metadata": {},
   "source": [
    "이 코드는 설정 과정의 일부이며 다음 작업을 수행합니다:\n",
    "- 상위 디렉터리를 Python 시스템 경로에 추가합니다.\n",
    "- 이후 실행에 필요한 커스텀 모듈인 `utils`의 `BedrockStructuredKnowledgeBase`를 가져옵니다."
   ]
  },
  {
   "cell_type": "code",
   "execution_count": null,
   "id": "b1ac8ad9",
   "metadata": {},
   "outputs": [],
   "source": [
    "import os\n",
    "import sys\n",
    "import time\n",
    "import boto3\n",
    "import logging\n",
    "import pprint\n",
    "import json\n",
    "from pathlib import Path\n",
    "import requests\n",
    "import uuid\n",
    "\n",
    "current_path = Path().resolve()\n",
    "current_path = current_path.parent\n",
    "\n",
    "if str(current_path) not in sys.path:\n",
    "    sys.path.append(str(current_path))\n",
    "\n",
    "# Print sys.path to verify\n",
    "print(sys.path)\n",
    "\n",
    "from utils.knowledge_base import BedrockKnowledgeBase\n",
    "from utils.knowledge_base_operators import print_results,print_results_with_guardrail"
   ]
  },
  {
   "cell_type": "code",
   "execution_count": 3,
   "id": "4f59ae64-03a5-4d4a-87bd-4c35514d90b6",
   "metadata": {},
   "outputs": [],
   "source": [
    "session = boto3.session.Session()\n",
    "region = session.region_name\n",
    "unique_id = str(uuid.uuid4())[:4]\n",
    "s3_client = boto3.client(\"s3\",region_name=region)\n",
    "bedrock = boto3.client(\"bedrock\",region_name=region)\n",
    "bedrock_runtime = boto3.client(\"bedrock-runtime\",region_name=region)\n",
    "bedrock_agent_client = boto3.client(\"bedrock-agent\",region_name=region)\n",
    "bedrock_agent_runtime_client = boto3.client(\"bedrock-agent-runtime\",region_name=region)"
   ]
  },
  {
   "cell_type": "markdown",
   "id": "69a0aca1-2e0f-4a6a-974c-6d0cde052748",
   "metadata": {},
   "source": [
    "## 2. Knowledge Base 생성"
   ]
  },
  {
   "cell_type": "markdown",
   "id": "c5f3c375-58da-4a9a-a675-5225d46650fb",
   "metadata": {},
   "source": [
    "### 2.1 데이터 세트 다운로드"
   ]
  },
  {
   "cell_type": "code",
   "execution_count": null,
   "id": "0e59fa25-a6c0-4f54-ab9d-bae4fc4c46fe",
   "metadata": {},
   "outputs": [],
   "source": [
    "url = \"https://media.wizards.com/2023/downloads/dnd/SRD_CC_v5.1.pdf\"\n",
    "file_name = \"kb_documents/SRD_CC_v5.1.pdf\"\n",
    "os.makedirs(\"kb_documents\", exist_ok=True)\n",
    "response = requests.get(url)\n",
    "with open(file_name, \"wb\") as file:\n",
    "    file.write(response.content)\n",
    "print(f\"File '{file_name}' has been downloaded.\")"
   ]
  },
  {
   "cell_type": "markdown",
   "id": "3222db64-9526-4a71-bc4c-81886d7b2cc5",
   "metadata": {},
   "source": [
    "### 2.1 Knowledge Base 생성\n",
    "\n",
    "이제 Knowledge Base와 필요한 리소스를 생성합니다. 여기에는 다음이 포함됩니다:\n",
    "- 벡터 데이터베이스용 [Amazon OpenSearch Serverless](https://aws.amazon.com/opensearch-service/features/serverless/)\n",
    "- [AWS IAM](https://aws.amazon.com/iam/) 역할과 권한\n",
    "- Knowledge Base 문서를 저장할 [Amazon S3](https://aws.amazon.com/s3/) 버킷\n",
    "\n",
    "Knowledge Base와 종속 리소스를 생성하기 위해 이 폴더에 있는 `BedrockKnowledgeBase` 지원 클래스를 사용합니다. 이 클래스는 새 Knowledge Base를 만들고, 데이터 소스에 문서를 적재하고, 실습을 마친 후 리소스를 삭제할 수 있는 기능을 제공합니다."
   ]
  },
  {
   "cell_type": "code",
   "execution_count": 5,
   "id": "5ed3e9f6-1a27-402e-aaae-b23885b091e1",
   "metadata": {},
   "outputs": [],
   "source": [
    "knowledge_base_name = \"{}-cgdemo\".format(unique_id)\n",
    "knowledge_base_description = \"Knowledge Base containing d&d Guide\"\n",
    "bucket_name = \"{}-cgdemo-bucket\".format(unique_id)"
   ]
  },
  {
   "cell_type": "markdown",
   "id": "30bd1b0c",
   "metadata": {},
   "source": [
    "#### 데이터 소스 정의\n",
    "\n",
    "Knowledge Base에 연결할 데이터 소스를 정의합니다. Amazon Bedrock Knowledge Bases에서는 S3, SharePoint, Salesforce, Confluence 등 다양한 데이터 소스를 선택할 수 있습니다. 이 노트북에서는 S3 버킷을 데이터 소스로 사용합니다."
   ]
  },
  {
   "cell_type": "code",
   "execution_count": 6,
   "id": "dc8b6397",
   "metadata": {},
   "outputs": [],
   "source": [
    "data_sources=[{\"type\": \"S3\", \"bucket_name\": bucket_name}]"
   ]
  },
  {
   "cell_type": "code",
   "execution_count": null,
   "id": "67f303ac-963e-457e-bebd-9c588527d3cd",
   "metadata": {},
   "outputs": [],
   "source": [
    "knowledge_base = BedrockKnowledgeBase(\n",
    "    kb_name=knowledge_base_name,\n",
    "    kb_description=knowledge_base_description,\n",
    "    data_sources=data_sources,\n",
    "    chunking_strategy = \"FIXED_SIZE\", \n",
    "    suffix = f'{unique_id}-f'\n",
    ")"
   ]
  },
  {
   "cell_type": "markdown",
   "id": "1fa2e9c8-ea4b-4730-b19d-6d291e6d5c40",
   "metadata": {},
   "source": [
    "이제 Knowledge Base 문서를 S3에 업로드합니다."
   ]
  },
  {
   "cell_type": "code",
   "execution_count": null,
   "id": "585e3bd1-5835-4bf4-af67-021ed3acaead",
   "metadata": {},
   "outputs": [],
   "source": [
    "def upload_directory(path, bucket_name):\n",
    "    for root, dirs, files in os.walk(path):\n",
    "        for file in files:\n",
    "            if file.endswith(\".pdf\"):\n",
    "                file_to_upload = os.path.join(root, file)\n",
    "                print(f\"uploading file {file_to_upload} to {bucket_name}\")\n",
    "                s3_client.upload_file(file_to_upload, bucket_name, file)\n",
    "\n",
    "upload_directory(\"kb_documents\", bucket_name)"
   ]
  },
  {
   "cell_type": "markdown",
   "id": "e5972a33-dcbb-4320-961e-e0ed6120eac5",
   "metadata": {},
   "source": [
    "그리고 문서를 Knowledge Base에 적재합니다."
   ]
  },
  {
   "cell_type": "code",
   "execution_count": null,
   "id": "27b8b265-1f39-4293-b7d0-049207acdd34",
   "metadata": {},
   "outputs": [],
   "source": [
    "# ensure that the kb is available\n",
    "time.sleep(30)\n",
    "# sync knowledge base\n",
    "knowledge_base.start_ingestion_job()"
   ]
  },
  {
   "cell_type": "code",
   "execution_count": null,
   "id": "8c25c31d-14c7-40aa-9736-5d2e17f91177",
   "metadata": {},
   "outputs": [],
   "source": [
    "kb_id = knowledge_base.get_knowledge_base_id()"
   ]
  },
  {
   "cell_type": "markdown",
   "id": "8bb0acbb-3c38-4ae6-af8f-5fccde836cc6",
   "metadata": {},
   "source": [
    "### 2.2 Knowledge Base 테스트\n",
    "생성한 Knowledge Base가 예상대로 동작하는지 확인해 보겠습니다. 먼저 Knowledge Base ID를 가져옵니다. \n",
    "\n",
    "그런 다음 [`RetrieveAndGenerate`](https://boto3.amazonaws.com/v1/documentation/api/latest/reference/services/bedrock-agent-runtime/client/retrieve_and_generate.html) API를 사용해 Knowledge Base에서 질문에 대한 컨텍스트를 검색하고 최종 응답을 생성합니다."
   ]
  },
  {
   "cell_type": "code",
   "execution_count": null,
   "id": "d4e97f13-6490-4121-9fc6-c890137bc278",
   "metadata": {},
   "outputs": [],
   "source": [
    "model_id=\"anthropic.claude-3-sonnet-20240229-v1:0\"\n",
    "response = bedrock_agent_runtime_client.retrieve_and_generate(\n",
    "    input={\n",
    "        \"text\": \"What should I know about elves?\"\n",
    "    },\n",
    "    retrieveAndGenerateConfiguration={\n",
    "        \"type\": \"KNOWLEDGE_BASE\",\n",
    "        \"knowledgeBaseConfiguration\": {\n",
    "            'knowledgeBaseId': kb_id,\n",
    "            \"modelArn\": model_id,\n",
    "            \"retrievalConfiguration\": {\n",
    "                \"vectorSearchConfiguration\": {\n",
    "                    \"numberOfResults\":5\n",
    "                } \n",
    "            }\n",
    "        }\n",
    "    }\n",
    ")\n",
    "\n",
    "print(response['output']['text'],end='\\n'*2)"
   ]
  },
  {
   "cell_type": "markdown",
   "id": "67569ad0-8e72-4a54-9d8e-0bf7b85937fb",
   "metadata": {},
   "source": [
    "## 3. Amazon Bedrock용 Guardrail 구성"
   ]
  },
  {
   "cell_type": "markdown",
   "id": "78fcfffe-117d-43a2-b907-aa09219e33d9",
   "metadata": {},
   "source": [
    "Knowledge Base를 생성하고 문서를 동기화했으니, 이제 Amazon Bedrock Guardrail을 생성하겠습니다. "
   ]
  },
  {
   "cell_type": "markdown",
   "id": "0f4d1113-63c1-407c-82a3-f633db256e4f",
   "metadata": {},
   "source": [
    "Contextual grounding 검사를 위한 필터링 파라미터는 두 가지입니다:\n",
    "\n",
    "- **Grounding** – 모델 응답이 근거(source)에 기반한 사실인지 확인하기 위한 최소 신뢰도 점수(임계값)를 설정해 활성화할 수 있습니다. 근거 점수와 동일하거나 높은 응답만 허용되며, 임계값보다 낮은 경우 응답이 차단되고 구성한 차단 메시지가 반환됩니다.\n",
    "\n",
    "- **Relevance** – 사용자 질의와의 관련성을 위한 최소 신뢰도 점수를 기준으로 동작합니다. 설정한 관련성 임계값보다 낮은 응답은 차단되며, 해당 차단 메시지가 반환됩니다.\n",
    "\n",
    "Grounding과 relevance 임계값을 높게 설정할수록 더 많은 응답이 차단됩니다. 사용 사례에서 허용 가능한 정확도 수준에 따라 값을 조정하세요. 예를 들어 금융 도메인의 고객용 애플리케이션은 부정확한 콘텐츠에 대한 허용 범위가 낮으므로 높은 임계값이 필요할 수 있습니다."
   ]
  },
  {
   "cell_type": "code",
   "execution_count": null,
   "id": "04dffb9f-09d3-4e4a-a8b4-0145acf0c873",
   "metadata": {},
   "outputs": [],
   "source": [
    "response = bedrock.create_guardrail(\n",
    "    name=\"contextual-grounding-guardrail-{}\".format(unique_id),\n",
    "    description=\"D&D Guardrail\",\n",
    "    contextualGroundingPolicyConfig={\n",
    "        'filtersConfig': [\n",
    "            {\n",
    "                'type': 'GROUNDING',\n",
    "                'threshold': 0.5\n",
    "            },\n",
    "            {\n",
    "                'type': 'RELEVANCE',\n",
    "                'threshold': 0.8\n",
    "            },\n",
    "        ]\n",
    "    },\n",
    "    blockedInputMessaging=\"Sorry, I can not respond to this.\",\n",
    "    blockedOutputsMessaging=\"Sorry, I can not respond to this.\",\n",
    ")\n",
    "guardrailId = response[\"guardrailId\"]\n",
    "print(\"The guardrail id is\",response[\"guardrailId\"])"
   ]
  },
  {
   "cell_type": "markdown",
   "id": "47c53e38-4289-45f0-ba3d-16abf26b544d",
   "metadata": {},
   "source": [
    "## 4. Contextual grounding 기능 테스트\n",
    "Knowledge Base와 Guardrail 구성을 마쳤으니 함께 테스트해 보겠습니다.\n",
    "\n",
    "이 섹션에서는 먼저 Knowledge Base에서 결과를 검색한 뒤 Guardrail이 통합된 Converse API에 전달합니다."
   ]
  },
  {
   "cell_type": "code",
   "execution_count": 13,
   "id": "c003c734-8ce1-406f-8840-db553ac53f83",
   "metadata": {},
   "outputs": [],
   "source": [
    "def invoke_kb(kb_query):\n",
    "    kb_response = bedrock_agent_runtime_client.retrieve(\n",
    "        knowledgeBaseId=kb_id,\n",
    "        retrievalConfiguration={\n",
    "            'vectorSearchConfiguration': {\n",
    "                'numberOfResults': 2,\n",
    "            }\n",
    "        },\n",
    "        retrievalQuery={\n",
    "            'text': kb_query\n",
    "        }\n",
    "    )\n",
    "    model_id=\"anthropic.claude-3-sonnet-20240229-v1:0\"\n",
    " \n",
    "    inference_config = {\"temperature\": 0.1}\n",
    "\n",
    "    # The message for the model and the content that you want the guardrail to assess.\n",
    "    messages = [\n",
    "        {\n",
    "            \"role\": \"user\",\n",
    "            \"content\": [\n",
    "                {\"text\": str(kb_response)},\n",
    "                {\"text\": kb_query}\n",
    "            ]\n",
    "        }\n",
    "    ]\n",
    "    response = bedrock_runtime.converse(modelId=model_id,messages=messages, inferenceConfig=inference_config)\n",
    "    print(\"\"\"\n",
    "    ================================\n",
    "    Invoke KB without Guardrails\n",
    "    ================================\n",
    "    \"\"\")\n",
    "    print_results(kb_response, response)\n",
    "\n",
    "\n",
    "def invoke_kb_with_guardrail(kb_query):\n",
    "    kb_response = bedrock_agent_runtime_client.retrieve(\n",
    "        knowledgeBaseId=kb_id,\n",
    "        retrievalConfiguration={\n",
    "            'vectorSearchConfiguration': {\n",
    "                'numberOfResults': 2,\n",
    "            }\n",
    "        },\n",
    "        retrievalQuery={\n",
    "            'text': kb_query\n",
    "        }\n",
    "    )\n",
    "    model_id=\"anthropic.claude-3-sonnet-20240229-v1:0\"\n",
    "    inference_config = {\"temperature\": 0.1}\n",
    "    guardrail_config = {\n",
    "        \"guardrailIdentifier\": guardrailId,\n",
    "        \"guardrailVersion\": \"DRAFT\",\n",
    "        \"trace\": \"enabled\"\n",
    "    }\n",
    "\n",
    "    # The message for the model and the content that you want the guardrail to assess.\n",
    "    messages = [\n",
    "        {\n",
    "            \"role\": \"user\",\n",
    "            \"content\": [\n",
    "                {\n",
    "                    \"guardContent\": {\n",
    "                        \"text\": {\n",
    "                            \"text\": str(kb_response),\n",
    "                            \"qualifiers\": [\"grounding_source\"],\n",
    "                        }\n",
    "                    }\n",
    "                },\n",
    "                {\n",
    "                    \"guardContent\": {\n",
    "                        \"text\": {\n",
    "                            \"text\": kb_query,\n",
    "                            \"qualifiers\": [\"query\"],\n",
    "                        }\n",
    "                    }\n",
    "                },\n",
    "            ],\n",
    "        }\n",
    "    ]\n",
    "    response = bedrock_runtime.converse(modelId=model_id,messages=messages,guardrailConfig=guardrail_config, inferenceConfig=inference_config,)\n",
    "    print(\"\"\"\n",
    "    ================================\n",
    "    Invoke KB with Guardrails\n",
    "    ================================\n",
    "    \"\"\")\n",
    "    print_results_with_guardrail(kb_response, response)\n"
   ]
  },
  {
   "cell_type": "code",
   "execution_count": null,
   "id": "50970d62-d6a1-4029-b1df-f3d4654ea3f4",
   "metadata": {},
   "outputs": [],
   "source": [
    "kb_query = \"What are High Elves?\"\n",
    "invoke_kb(kb_query)\n",
    "invoke_kb_with_guardrail(kb_query)"
   ]
  },
  {
   "cell_type": "code",
   "execution_count": null,
   "id": "05d50a33-2669-4052-9c62-4272560fec00",
   "metadata": {},
   "outputs": [],
   "source": [
    "kb_query = \"Where should the elves go if they arrive in Paris?\"\n",
    "invoke_kb(kb_query)\n",
    "invoke_kb_with_guardrail(kb_query)"
   ]
  },
  {
   "cell_type": "markdown",
   "id": "84e85431-d209-4fc6-84da-1a190d73001c",
   "metadata": {},
   "source": [
    "## 5. 리소스 삭제\n",
    "불필요한 비용을 피하기 위해 모든 리소스를 삭제합니다. "
   ]
  },
  {
   "cell_type": "code",
   "execution_count": null,
   "id": "a7aba642-7f9c-4369-9320-f00c53947fb5",
   "metadata": {
    "tags": []
   },
   "outputs": [],
   "source": [
    "## Delete the Knowledge Base\n",
    "knowledge_base.delete_kb(delete_s3_bucket=True, delete_iam_roles_and_policies=True)\n",
    "## Delete the Guardrail\n",
    "bedrock.delete_guardrail(guardrailIdentifier = guardrailId)"
   ]
  }
 ],
 "metadata": {
  "availableInstances": [
   {
    "_defaultOrder": 0,
    "_isFastLaunch": true,
    "category": "General purpose",
    "gpuNum": 0,
    "hideHardwareSpecs": false,
    "memoryGiB": 4,
    "name": "ml.t3.medium",
    "vcpuNum": 2
   },
   {
    "_defaultOrder": 1,
    "_isFastLaunch": false,
    "category": "General purpose",
    "gpuNum": 0,
    "hideHardwareSpecs": false,
    "memoryGiB": 8,
    "name": "ml.t3.large",
    "vcpuNum": 2
   },
   {
    "_defaultOrder": 2,
    "_isFastLaunch": false,
    "category": "General purpose",
    "gpuNum": 0,
    "hideHardwareSpecs": false,
    "memoryGiB": 16,
    "name": "ml.t3.xlarge",
    "vcpuNum": 4
   },
   {
    "_defaultOrder": 3,
    "_isFastLaunch": false,
    "category": "General purpose",
    "gpuNum": 0,
    "hideHardwareSpecs": false,
    "memoryGiB": 32,
    "name": "ml.t3.2xlarge",
    "vcpuNum": 8
   },
   {
    "_defaultOrder": 4,
    "_isFastLaunch": true,
    "category": "General purpose",
    "gpuNum": 0,
    "hideHardwareSpecs": false,
    "memoryGiB": 8,
    "name": "ml.m5.large",
    "vcpuNum": 2
   },
   {
    "_defaultOrder": 5,
    "_isFastLaunch": false,
    "category": "General purpose",
    "gpuNum": 0,
    "hideHardwareSpecs": false,
    "memoryGiB": 16,
    "name": "ml.m5.xlarge",
    "vcpuNum": 4
   },
   {
    "_defaultOrder": 6,
    "_isFastLaunch": false,
    "category": "General purpose",
    "gpuNum": 0,
    "hideHardwareSpecs": false,
    "memoryGiB": 32,
    "name": "ml.m5.2xlarge",
    "vcpuNum": 8
   },
   {
    "_defaultOrder": 7,
    "_isFastLaunch": false,
    "category": "General purpose",
    "gpuNum": 0,
    "hideHardwareSpecs": false,
    "memoryGiB": 64,
    "name": "ml.m5.4xlarge",
    "vcpuNum": 16
   },
   {
    "_defaultOrder": 8,
    "_isFastLaunch": false,
    "category": "General purpose",
    "gpuNum": 0,
    "hideHardwareSpecs": false,
    "memoryGiB": 128,
    "name": "ml.m5.8xlarge",
    "vcpuNum": 32
   },
   {
    "_defaultOrder": 9,
    "_isFastLaunch": false,
    "category": "General purpose",
    "gpuNum": 0,
    "hideHardwareSpecs": false,
    "memoryGiB": 192,
    "name": "ml.m5.12xlarge",
    "vcpuNum": 48
   },
   {
    "_defaultOrder": 10,
    "_isFastLaunch": false,
    "category": "General purpose",
    "gpuNum": 0,
    "hideHardwareSpecs": false,
    "memoryGiB": 256,
    "name": "ml.m5.16xlarge",
    "vcpuNum": 64
   },
   {
    "_defaultOrder": 11,
    "_isFastLaunch": false,
    "category": "General purpose",
    "gpuNum": 0,
    "hideHardwareSpecs": false,
    "memoryGiB": 384,
    "name": "ml.m5.24xlarge",
    "vcpuNum": 96
   },
   {
    "_defaultOrder": 12,
    "_isFastLaunch": false,
    "category": "General purpose",
    "gpuNum": 0,
    "hideHardwareSpecs": false,
    "memoryGiB": 8,
    "name": "ml.m5d.large",
    "vcpuNum": 2
   },
   {
    "_defaultOrder": 13,
    "_isFastLaunch": false,
    "category": "General purpose",
    "gpuNum": 0,
    "hideHardwareSpecs": false,
    "memoryGiB": 16,
    "name": "ml.m5d.xlarge",
    "vcpuNum": 4
   },
   {
    "_defaultOrder": 14,
    "_isFastLaunch": false,
    "category": "General purpose",
    "gpuNum": 0,
    "hideHardwareSpecs": false,
    "memoryGiB": 32,
    "name": "ml.m5d.2xlarge",
    "vcpuNum": 8
   },
   {
    "_defaultOrder": 15,
    "_isFastLaunch": false,
    "category": "General purpose",
    "gpuNum": 0,
    "hideHardwareSpecs": false,
    "memoryGiB": 64,
    "name": "ml.m5d.4xlarge",
    "vcpuNum": 16
   },
   {
    "_defaultOrder": 16,
    "_isFastLaunch": false,
    "category": "General purpose",
    "gpuNum": 0,
    "hideHardwareSpecs": false,
    "memoryGiB": 128,
    "name": "ml.m5d.8xlarge",
    "vcpuNum": 32
   },
   {
    "_defaultOrder": 17,
    "_isFastLaunch": false,
    "category": "General purpose",
    "gpuNum": 0,
    "hideHardwareSpecs": false,
    "memoryGiB": 192,
    "name": "ml.m5d.12xlarge",
    "vcpuNum": 48
   },
   {
    "_defaultOrder": 18,
    "_isFastLaunch": false,
    "category": "General purpose",
    "gpuNum": 0,
    "hideHardwareSpecs": false,
    "memoryGiB": 256,
    "name": "ml.m5d.16xlarge",
    "vcpuNum": 64
   },
   {
    "_defaultOrder": 19,
    "_isFastLaunch": false,
    "category": "General purpose",
    "gpuNum": 0,
    "hideHardwareSpecs": false,
    "memoryGiB": 384,
    "name": "ml.m5d.24xlarge",
    "vcpuNum": 96
   },
   {
    "_defaultOrder": 20,
    "_isFastLaunch": false,
    "category": "General purpose",
    "gpuNum": 0,
    "hideHardwareSpecs": true,
    "memoryGiB": 0,
    "name": "ml.geospatial.interactive",
    "supportedImageNames": [
     "sagemaker-geospatial-v1-0"
    ],
    "vcpuNum": 0
   },
   {
    "_defaultOrder": 21,
    "_isFastLaunch": true,
    "category": "Compute optimized",
    "gpuNum": 0,
    "hideHardwareSpecs": false,
    "memoryGiB": 4,
    "name": "ml.c5.large",
    "vcpuNum": 2
   },
   {
    "_defaultOrder": 22,
    "_isFastLaunch": false,
    "category": "Compute optimized",
    "gpuNum": 0,
    "hideHardwareSpecs": false,
    "memoryGiB": 8,
    "name": "ml.c5.xlarge",
    "vcpuNum": 4
   },
   {
    "_defaultOrder": 23,
    "_isFastLaunch": false,
    "category": "Compute optimized",
    "gpuNum": 0,
    "hideHardwareSpecs": false,
    "memoryGiB": 16,
    "name": "ml.c5.2xlarge",
    "vcpuNum": 8
   },
   {
    "_defaultOrder": 24,
    "_isFastLaunch": false,
    "category": "Compute optimized",
    "gpuNum": 0,
    "hideHardwareSpecs": false,
    "memoryGiB": 32,
    "name": "ml.c5.4xlarge",
    "vcpuNum": 16
   },
   {
    "_defaultOrder": 25,
    "_isFastLaunch": false,
    "category": "Compute optimized",
    "gpuNum": 0,
    "hideHardwareSpecs": false,
    "memoryGiB": 72,
    "name": "ml.c5.9xlarge",
    "vcpuNum": 36
   },
   {
    "_defaultOrder": 26,
    "_isFastLaunch": false,
    "category": "Compute optimized",
    "gpuNum": 0,
    "hideHardwareSpecs": false,
    "memoryGiB": 96,
    "name": "ml.c5.12xlarge",
    "vcpuNum": 48
   },
   {
    "_defaultOrder": 27,
    "_isFastLaunch": false,
    "category": "Compute optimized",
    "gpuNum": 0,
    "hideHardwareSpecs": false,
    "memoryGiB": 144,
    "name": "ml.c5.18xlarge",
    "vcpuNum": 72
   },
   {
    "_defaultOrder": 28,
    "_isFastLaunch": false,
    "category": "Compute optimized",
    "gpuNum": 0,
    "hideHardwareSpecs": false,
    "memoryGiB": 192,
    "name": "ml.c5.24xlarge",
    "vcpuNum": 96
   },
   {
    "_defaultOrder": 29,
    "_isFastLaunch": true,
    "category": "Accelerated computing",
    "gpuNum": 1,
    "hideHardwareSpecs": false,
    "memoryGiB": 16,
    "name": "ml.g4dn.xlarge",
    "vcpuNum": 4
   },
   {
    "_defaultOrder": 30,
    "_isFastLaunch": false,
    "category": "Accelerated computing",
    "gpuNum": 1,
    "hideHardwareSpecs": false,
    "memoryGiB": 32,
    "name": "ml.g4dn.2xlarge",
    "vcpuNum": 8
   },
   {
    "_defaultOrder": 31,
    "_isFastLaunch": false,
    "category": "Accelerated computing",
    "gpuNum": 1,
    "hideHardwareSpecs": false,
    "memoryGiB": 64,
    "name": "ml.g4dn.4xlarge",
    "vcpuNum": 16
   },
   {
    "_defaultOrder": 32,
    "_isFastLaunch": false,
    "category": "Accelerated computing",
    "gpuNum": 1,
    "hideHardwareSpecs": false,
    "memoryGiB": 128,
    "name": "ml.g4dn.8xlarge",
    "vcpuNum": 32
   },
   {
    "_defaultOrder": 33,
    "_isFastLaunch": false,
    "category": "Accelerated computing",
    "gpuNum": 4,
    "hideHardwareSpecs": false,
    "memoryGiB": 192,
    "name": "ml.g4dn.12xlarge",
    "vcpuNum": 48
   },
   {
    "_defaultOrder": 34,
    "_isFastLaunch": false,
    "category": "Accelerated computing",
    "gpuNum": 1,
    "hideHardwareSpecs": false,
    "memoryGiB": 256,
    "name": "ml.g4dn.16xlarge",
    "vcpuNum": 64
   },
   {
    "_defaultOrder": 35,
    "_isFastLaunch": false,
    "category": "Accelerated computing",
    "gpuNum": 1,
    "hideHardwareSpecs": false,
    "memoryGiB": 61,
    "name": "ml.p3.2xlarge",
    "vcpuNum": 8
   },
   {
    "_defaultOrder": 36,
    "_isFastLaunch": false,
    "category": "Accelerated computing",
    "gpuNum": 4,
    "hideHardwareSpecs": false,
    "memoryGiB": 244,
    "name": "ml.p3.8xlarge",
    "vcpuNum": 32
   },
   {
    "_defaultOrder": 37,
    "_isFastLaunch": false,
    "category": "Accelerated computing",
    "gpuNum": 8,
    "hideHardwareSpecs": false,
    "memoryGiB": 488,
    "name": "ml.p3.16xlarge",
    "vcpuNum": 64
   },
   {
    "_defaultOrder": 38,
    "_isFastLaunch": false,
    "category": "Accelerated computing",
    "gpuNum": 8,
    "hideHardwareSpecs": false,
    "memoryGiB": 768,
    "name": "ml.p3dn.24xlarge",
    "vcpuNum": 96
   },
   {
    "_defaultOrder": 39,
    "_isFastLaunch": false,
    "category": "Memory Optimized",
    "gpuNum": 0,
    "hideHardwareSpecs": false,
    "memoryGiB": 16,
    "name": "ml.r5.large",
    "vcpuNum": 2
   },
   {
    "_defaultOrder": 40,
    "_isFastLaunch": false,
    "category": "Memory Optimized",
    "gpuNum": 0,
    "hideHardwareSpecs": false,
    "memoryGiB": 32,
    "name": "ml.r5.xlarge",
    "vcpuNum": 4
   },
   {
    "_defaultOrder": 41,
    "_isFastLaunch": false,
    "category": "Memory Optimized",
    "gpuNum": 0,
    "hideHardwareSpecs": false,
    "memoryGiB": 64,
    "name": "ml.r5.2xlarge",
    "vcpuNum": 8
   },
   {
    "_defaultOrder": 42,
    "_isFastLaunch": false,
    "category": "Memory Optimized",
    "gpuNum": 0,
    "hideHardwareSpecs": false,
    "memoryGiB": 128,
    "name": "ml.r5.4xlarge",
    "vcpuNum": 16
   },
   {
    "_defaultOrder": 43,
    "_isFastLaunch": false,
    "category": "Memory Optimized",
    "gpuNum": 0,
    "hideHardwareSpecs": false,
    "memoryGiB": 256,
    "name": "ml.r5.8xlarge",
    "vcpuNum": 32
   },
   {
    "_defaultOrder": 44,
    "_isFastLaunch": false,
    "category": "Memory Optimized",
    "gpuNum": 0,
    "hideHardwareSpecs": false,
    "memoryGiB": 384,
    "name": "ml.r5.12xlarge",
    "vcpuNum": 48
   },
   {
    "_defaultOrder": 45,
    "_isFastLaunch": false,
    "category": "Memory Optimized",
    "gpuNum": 0,
    "hideHardwareSpecs": false,
    "memoryGiB": 512,
    "name": "ml.r5.16xlarge",
    "vcpuNum": 64
   },
   {
    "_defaultOrder": 46,
    "_isFastLaunch": false,
    "category": "Memory Optimized",
    "gpuNum": 0,
    "hideHardwareSpecs": false,
    "memoryGiB": 768,
    "name": "ml.r5.24xlarge",
    "vcpuNum": 96
   },
   {
    "_defaultOrder": 47,
    "_isFastLaunch": false,
    "category": "Accelerated computing",
    "gpuNum": 1,
    "hideHardwareSpecs": false,
    "memoryGiB": 16,
    "name": "ml.g5.xlarge",
    "vcpuNum": 4
   },
   {
    "_defaultOrder": 48,
    "_isFastLaunch": false,
    "category": "Accelerated computing",
    "gpuNum": 1,
    "hideHardwareSpecs": false,
    "memoryGiB": 32,
    "name": "ml.g5.2xlarge",
    "vcpuNum": 8
   },
   {
    "_defaultOrder": 49,
    "_isFastLaunch": false,
    "category": "Accelerated computing",
    "gpuNum": 1,
    "hideHardwareSpecs": false,
    "memoryGiB": 64,
    "name": "ml.g5.4xlarge",
    "vcpuNum": 16
   },
   {
    "_defaultOrder": 50,
    "_isFastLaunch": false,
    "category": "Accelerated computing",
    "gpuNum": 1,
    "hideHardwareSpecs": false,
    "memoryGiB": 128,
    "name": "ml.g5.8xlarge",
    "vcpuNum": 32
   },
   {
    "_defaultOrder": 51,
    "_isFastLaunch": false,
    "category": "Accelerated computing",
    "gpuNum": 1,
    "hideHardwareSpecs": false,
    "memoryGiB": 256,
    "name": "ml.g5.16xlarge",
    "vcpuNum": 64
   },
   {
    "_defaultOrder": 52,
    "_isFastLaunch": false,
    "category": "Accelerated computing",
    "gpuNum": 4,
    "hideHardwareSpecs": false,
    "memoryGiB": 192,
    "name": "ml.g5.12xlarge",
    "vcpuNum": 48
   },
   {
    "_defaultOrder": 53,
    "_isFastLaunch": false,
    "category": "Accelerated computing",
    "gpuNum": 4,
    "hideHardwareSpecs": false,
    "memoryGiB": 384,
    "name": "ml.g5.24xlarge",
    "vcpuNum": 96
   },
   {
    "_defaultOrder": 54,
    "_isFastLaunch": false,
    "category": "Accelerated computing",
    "gpuNum": 8,
    "hideHardwareSpecs": false,
    "memoryGiB": 768,
    "name": "ml.g5.48xlarge",
    "vcpuNum": 192
   },
   {
    "_defaultOrder": 55,
    "_isFastLaunch": false,
    "category": "Accelerated computing",
    "gpuNum": 8,
    "hideHardwareSpecs": false,
    "memoryGiB": 1152,
    "name": "ml.p4d.24xlarge",
    "vcpuNum": 96
   },
   {
    "_defaultOrder": 56,
    "_isFastLaunch": false,
    "category": "Accelerated computing",
    "gpuNum": 8,
    "hideHardwareSpecs": false,
    "memoryGiB": 1152,
    "name": "ml.p4de.24xlarge",
    "vcpuNum": 96
   },
   {
    "_defaultOrder": 57,
    "_isFastLaunch": false,
    "category": "Accelerated computing",
    "gpuNum": 0,
    "hideHardwareSpecs": false,
    "memoryGiB": 32,
    "name": "ml.trn1.2xlarge",
    "vcpuNum": 8
   },
   {
    "_defaultOrder": 58,
    "_isFastLaunch": false,
    "category": "Accelerated computing",
    "gpuNum": 0,
    "hideHardwareSpecs": false,
    "memoryGiB": 512,
    "name": "ml.trn1.32xlarge",
    "vcpuNum": 128
   },
   {
    "_defaultOrder": 59,
    "_isFastLaunch": false,
    "category": "Accelerated computing",
    "gpuNum": 0,
    "hideHardwareSpecs": false,
    "memoryGiB": 512,
    "name": "ml.trn1n.32xlarge",
    "vcpuNum": 128
   }
  ],
  "instance_type": "ml.t3.medium",
  "kernelspec": {
   "display_name": "bedrock_env",
   "language": "python",
   "name": "python3"
  },
  "language_info": {
   "codemirror_mode": {
    "name": "ipython",
    "version": 3
   },
   "file_extension": ".py",
   "mimetype": "text/x-python",
   "name": "python",
   "nbconvert_exporter": "python",
   "pygments_lexer": "ipython3",
   "version": "3.10.13"
  }
 },
 "nbformat": 4,
 "nbformat_minor": 5
}