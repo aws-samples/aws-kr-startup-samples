{
 "cells": [
  {
   "cell_type": "markdown",
   "id": "15c08f81",
   "metadata": {},
   "source": [
    "# 재순위 지정(Re-ranking)\n",
    "\n",
    "Amazon Bedrock는 검색 결과의 관련성을 높이기 위해 질의 시 사용할 수 있는 reranker 모델을 제공합니다. reranker 모델은 질의와 청크 간의 관련성을 계산하고 자체 점수를 기반으로 결과를 재정렬합니다. reranker 모델을 사용하면 질의에 더 적합한 응답을 반환할 수 있습니다. \n",
    "\n",
    "Reranker 모델은 질의를 기반으로 관련성 신호를 식별하도록 학습되어 있으며, 이러한 신호를 사용해 문서를 순위화합니다. 덕분에 모델은 더 관련성 있고 정확한 결과를 제공합니다.\n",
    "\n",
    "`Amazon Bedrock Knowledge Bases`로 Retrieval Augmented Generation(RAG) 애플리케이션을 구축하는 경우 `Retrieve` 또는 `RetrieveAndGenerate` 작업을 호출할 때 reranker 모델을 사용하세요. Reranking 결과는 Amazon Bedrock Knowledge Bases가 결정하는 기본 순위를 대체합니다.\n",
    "\n",
    "이 노트북은 Amazon Bedrock Knowledge Bases와 함께 **reranking 모델**을 사용하는 방법을 시연합니다. Rerank API를 통해 RAG 애플리케이션의 정확성과 관련성을 한층 더 개선할 수 있습니다. Reranker 모델을 사용하면 적지만 더 관련성 높은 결과를 가져오고, 이러한 결과를 응답을 생성하는 Foundation Model에 전달함으로써 비용과 지연 시간을 줄일 수 있습니다.\n",
    "\n",
    "이제 Amazon Bedrock Knowledge Bases에서 reranking 모델을 구현하고 활용하는 방법을 예제 시나리오로 살펴보겠습니다."
   ]
  },
  {
   "cell_type": "markdown",
   "id": "ece99ba7",
   "metadata": {},
   "source": [
    "## 1. 설정\n",
    "나머지 셀을 실행하기 전에 아래 셀을 먼저 실행해 필요한 라이브러리를 설치하고 Bedrock에 연결하세요.\n",
    "\n",
    "라이브러리를 설치하는 동안 pip 의존성 오류가 표시되더라도 무시해도 됩니다."
   ]
  },
  {
   "cell_type": "code",
   "execution_count": null,
   "id": "dc89fe3a",
   "metadata": {},
   "outputs": [],
   "source": [
    "%pip install --upgrade pip --quiet\n",
    "%pip install -r ../requirements.txt --no-deps --quiet\n",
    "%pip install -r ../requirements.txt --upgrade --quiet"
   ]
  },
  {
   "cell_type": "code",
   "execution_count": null,
   "id": "4d465bc1",
   "metadata": {},
   "outputs": [],
   "source": [
    "%pip install ragas==0.1.9 --quiet"
   ]
  },
  {
   "cell_type": "code",
   "execution_count": null,
   "id": "57056c5d",
   "metadata": {},
   "outputs": [],
   "source": [
    "%pip install --upgrade boto3"
   ]
  },
  {
   "cell_type": "code",
   "execution_count": null,
   "id": "165e5495",
   "metadata": {},
   "outputs": [],
   "source": [
    "# restart kernel\n",
    "from IPython.core.display import HTML\n",
    "HTML(\"<script>Jupyter.notebook.kernel.restart()</script>\")"
   ]
  },
  {
   "cell_type": "code",
   "execution_count": null,
   "id": "7c1c0eb1",
   "metadata": {},
   "outputs": [],
   "source": [
    "import boto3\n",
    "print(boto3.__version__)"
   ]
  },
  {
   "cell_type": "code",
   "execution_count": null,
   "id": "7173b4bf",
   "metadata": {},
   "outputs": [],
   "source": [
    "import warnings\n",
    "warnings.filterwarnings('ignore')"
   ]
  },
  {
   "cell_type": "markdown",
   "id": "0b9e78df",
   "metadata": {},
   "source": [
    "이 코드는 설정 과정의 일부이며 다음 작업을 수행합니다:\n",
    "- 상위 디렉터리를 Python 시스템 경로에 추가합니다.\n",
    "- 이후 실행에 필요한 커스텀 모듈인 `utils`의 `BedrockStructuredKnowledgeBase`를 가져옵니다."
   ]
  },
  {
   "cell_type": "code",
   "execution_count": null,
   "id": "84241929",
   "metadata": {},
   "outputs": [],
   "source": [
    "import os\n",
    "import sys\n",
    "import time\n",
    "import boto3\n",
    "import logging\n",
    "import pprint\n",
    "import json\n",
    "\n",
    "# Set the path to import module\n",
    "from pathlib import Path\n",
    "current_path = Path().resolve()\n",
    "current_path = current_path.parent\n",
    "if str(current_path) not in sys.path:\n",
    "    sys.path.append(str(current_path))\n",
    "# Print sys.path to verify\n",
    "# print(sys.path)\n",
    "\n",
    "from utils.knowledge_base import BedrockKnowledgeBase"
   ]
  },
  {
   "cell_type": "code",
   "execution_count": null,
   "id": "cda1c18f",
   "metadata": {},
   "outputs": [],
   "source": [
    "#Clients\n",
    "s3_client = boto3.client('s3')\n",
    "sts_client = boto3.client('sts')\n",
    "session = boto3.session.Session(region_name = 'us-west-2')\n",
    "region =  session.region_name\n",
    "account_id = sts_client.get_caller_identity()[\"Account\"]\n",
    "bedrock_agent_client = boto3.client('bedrock-agent')\n",
    "bedrock_agent_runtime_client = boto3.client('bedrock-agent-runtime') \n",
    "logging.basicConfig(format='[%(asctime)s] p%(process)s {%(filename)s:%(lineno)d} %(levelname)s - %(message)s', level=logging.INFO)\n",
    "logger = logging.getLogger(__name__)\n",
    "region, account_id"
   ]
  },
  {
   "cell_type": "code",
   "execution_count": null,
   "id": "5d74b5be",
   "metadata": {},
   "outputs": [],
   "source": [
    "import time\n",
    "\n",
    "# Get the current timestamp\n",
    "current_time = time.time()\n",
    "\n",
    "# Format the timestamp as a string\n",
    "timestamp_str = time.strftime(\"%Y%m%d%H%M%S\", time.localtime(current_time))[-7:]\n",
    "# Create the suffix using the timestamp\n",
    "suffix = f\"{timestamp_str}\"\n",
    "knowledge_base_name = 'reranking-kb'\n",
    "knowledge_base_description = \"Knowledge Base for re-ranking.\"\n",
    "bucket_name = f'{knowledge_base_name}-{suffix}'\n",
    "foundation_model = \"anthropic.claude-3-sonnet-20240229-v1:0\"\n",
    "\n",
    "# Define data sources\n",
    "data_source=[{\"type\": \"S3\", \"bucket_name\": bucket_name}]"
   ]
  },
  {
   "cell_type": "markdown",
   "id": "e5142d7f",
   "metadata": {},
   "source": [
    "## 2 - 고정 청킹 전략으로 Knowledge Base 생성\n",
    "비디오 게임 데이터를 CSV 형식으로 저장할 [Amazon Bedrock Knowledge Bases](https://aws.amazon.com/bedrock/knowledge-bases/)를 먼저 생성해 보겠습니다. Knowledge Bases는 [Amazon OpenSearch Serverless](https://aws.amazon.com/opensearch-service/features/serverless/), [Amazon Aurora](https://aws.amazon.com/rds/aurora/), [Pinecone](http://app.pinecone.io/bedrock-integration), [Redis Enterprise]() 및 [MongoDB Atlas]() 등 다양한 벡터 데이터베이스와 통합할 수 있습니다. 이 예제에서는 Knowledge Base를 Amazon OpenSearch Serverless와 연동합니다. 이를 위해 Knowledge Base와 필요한 사전 준비 작업을 모두 생성해 주는 헬퍼 클래스 `BedrockKnowledgeBase`를 사용합니다:\n",
    "1. IAM 역할 및 정책\n",
    "2. S3 버킷\n",
    "3. Amazon OpenSearch Serverless 암호화, 네트워크 및 데이터 접근 정책\n",
    "4. Amazon OpenSearch Serverless 컬렉션\n",
    "5. Amazon OpenSearch Serverless 벡터 인덱스\n",
    "6. Knowledge Base\n",
    "7. Knowledge Base 데이터 소스"
   ]
  },
  {
   "cell_type": "markdown",
   "id": "8283567d",
   "metadata": {},
   "source": [
    "고정 청킹 전략을 사용해 Knowledge Base를 생성합니다. \n",
    "\n",
    "아래 매개변수 값을 변경하면 다른 청킹 전략을 선택할 수 있습니다: \n",
    "```\n",
    "\"chunkingStrategy\": \"FIXED_SIZE | NONE | HIERARCHICAL | SEMANTIC\"\n",
    "```"
   ]
  },
  {
   "cell_type": "code",
   "execution_count": null,
   "id": "258fbb58",
   "metadata": {},
   "outputs": [],
   "source": [
    "knowledge_base_metadata = BedrockKnowledgeBase(\n",
    "    kb_name=f'{knowledge_base_name}-{suffix}',\n",
    "    kb_description=knowledge_base_description,\n",
    "    data_sources=data_source, \n",
    "    chunking_strategy = \"FIXED_SIZE\", \n",
    "    suffix = suffix\n",
    ")"
   ]
  },
  {
   "cell_type": "markdown",
   "id": "c79183c7",
   "metadata": {},
   "source": [
    "### 2.1 Amazon 2019, 2020, 2021, 2022, 2023 연차보고서를 다운로드해 Amazon S3에 업로드하기\n",
    "\n",
    "Knowledge Base를 만들었으니 `sec-10-k reports` 데이터 세트로 내용을 채워 보겠습니다. 이 데이터는 [여기](https://ir.aboutamazon.com/annual-reports-proxies-and-shareholder-letters/default.aspx)에서 다운로드하며, Amazon의 연차보고서, 위임장, 주주 서한에 대한 자료입니다."
   ]
  },
  {
   "cell_type": "code",
   "execution_count": null,
   "id": "c758da68",
   "metadata": {},
   "outputs": [],
   "source": [
    "import os\n",
    "\n",
    "def create_directory(directory_name):    \n",
    "    if not os.path.exists(directory_name):\n",
    "        os.makedirs(directory_name)\n",
    "        print(f\"Directory '{directory_name}' created successfully.\")\n",
    "    else:\n",
    "        print(f\"Directory '{directory_name}' already exists.\")\n",
    "\n",
    "# Call the function to create the directory\n",
    "create_directory(\"sec-10-k\")"
   ]
  },
  {
   "cell_type": "code",
   "execution_count": null,
   "id": "a2bf67c7",
   "metadata": {},
   "outputs": [],
   "source": [
    "import requests\n",
    "\n",
    "def download_file(url, filename):\n",
    "    # Send a GET request to the URL\n",
    "    response = requests.get(url)\n",
    "    \n",
    "    # Check if the request was successful\n",
    "    if response.status_code == 200:\n",
    "        # Open the file in write-binary mode\n",
    "        with open(filename, 'wb') as file:\n",
    "            # Write the content of the response to the file\n",
    "            file.write(response.content)\n",
    "        print(f\"File downloaded successfully: {filename}\")\n",
    "    else:\n",
    "        print(f\"Failed to download file. Status code: {response.status_code}\")\n",
    "\n",
    "# URL of the files to download\n",
    "urls = [\"https://s2.q4cdn.com/299287126/files/doc_financials/2024/ar/Amazon-com-Inc-2023-Annual-Report.pdf\",\n",
    "        \"https://s2.q4cdn.com/299287126/files/doc_financials/2023/ar/Amazon-2022-Annual-Report.pdf\",\n",
    "        \"https://s2.q4cdn.com/299287126/files/doc_financials/2022/ar/Amazon-2021-Annual-Report.pdf\",\n",
    "        \"https://s2.q4cdn.com/299287126/files/doc_financials/2021/ar/Amazon-2020-Annual-Report.pdf\",\n",
    "        \"https://s2.q4cdn.com/299287126/files/doc_financials/2020/ar/2019-Annual-Report.pdf\"]\n",
    "\n",
    "\n",
    "for url in urls:\n",
    "    # Name for the downloaded file\n",
    "    filename = url.split('/')[-1]\n",
    "\n",
    "    # Path to save the downloaded file\n",
    "    filepath = f\"./sec-10-k/{filename}\"\n",
    "\n",
    "    # Call the function to download the file\n",
    "    download_file(url, filepath)"
   ]
  },
  {
   "cell_type": "markdown",
   "id": "70b83f68",
   "metadata": {},
   "source": [
    "`sec-10-k` 폴더에 있는 연차보고서 데이터를 S3에 업로드합니다."
   ]
  },
  {
   "cell_type": "code",
   "execution_count": null,
   "id": "40e12fc8",
   "metadata": {},
   "outputs": [],
   "source": [
    "def upload_directory(path, bucket_name):\n",
    "        for root,dirs,files in os.walk(path):\n",
    "            for file in files:\n",
    "                if not file.startswith('.DS_Store'):\n",
    "                    file_to_upload = os.path.join(root,file)\n",
    "                    print(f\"uploading file {file_to_upload} to {bucket_name}\")\n",
    "                    s3_client.upload_file(file_to_upload,bucket_name,file)\n",
    "\n",
    "# upload metadata file to S3\n",
    "upload_directory(\"sec-10-k\", bucket_name)"
   ]
  },
  {
   "cell_type": "markdown",
   "id": "b70a4b4b",
   "metadata": {},
   "source": [
    "이제 ingestion 작업을 시작합니다. 이미 고정 청킹에서 사용한 것과 동일한 문서를 사용하므로, S3 버킷에 문서를 업로드하는 단계는 건너뜁니다."
   ]
  },
  {
   "cell_type": "code",
   "execution_count": null,
   "id": "241a6ab9",
   "metadata": {},
   "outputs": [],
   "source": [
    "# ensure that the kb is available\n",
    "time.sleep(30)\n",
    "# sync knowledge base\n",
    "knowledge_base_metadata.start_ingestion_job()"
   ]
  },
  {
   "cell_type": "markdown",
   "id": "bad55ab6",
   "metadata": {},
   "source": [
    "마지막으로 나중에 솔루션을 테스트할 수 있도록 Knowledge Base ID를 저장합니다."
   ]
  },
  {
   "cell_type": "code",
   "execution_count": null,
   "id": "677c97ce",
   "metadata": {},
   "outputs": [],
   "source": [
    "kb_id = knowledge_base_metadata.get_knowledge_base_id()"
   ]
  },
  {
   "cell_type": "markdown",
   "id": "fcc80032",
   "metadata": {},
   "source": [
    "## 3. Ragas를 사용해 재순위 적용 여부에 따른 질의 응답 관련성 평가"
   ]
  },
  {
   "cell_type": "markdown",
   "id": "1cea8edf",
   "metadata": {},
   "source": [
    "생성, 평가, 재순위 지정을 위한 모델을 정의합니다"
   ]
  },
  {
   "cell_type": "code",
   "execution_count": null,
   "id": "bfa5a6bb",
   "metadata": {},
   "outputs": [],
   "source": [
    "from langchain.llms.bedrock import Bedrock\n",
    "from langchain_aws import ChatBedrock\n",
    "from langchain_aws import BedrockEmbeddings\n",
    "\n",
    "bedrock_client = boto3.client('bedrock-runtime')\n",
    "\n",
    "TEXT_GENERATION_MODEL_ID = \"anthropic.claude-3-haiku-20240307-v1:0\"\n",
    "EVALUATION_MODEL_ID = \"anthropic.claude-3-sonnet-20240229-v1:0\"\n",
    "EMBEDDING_MODEL_ID = \"amazon.titan-embed-text-v2:0\"\n",
    "\n",
    "# Reranker model: there are two reranker models available at launch\n",
    "AMAZON_RERANKER_MODEL_ID = \"amazon.rerank-v1:0\"\n",
    "COHERE_RERANKER_MODEL_ID = \"cohere.rerank-v3-5:0\"\n",
    "\n",
    "\n",
    "llm_for_evaluation = ChatBedrock(model_id=\"anthropic.claude-3-sonnet-20240229-v1:0\", client=bedrock_client)\n",
    "bedrock_embeddings = BedrockEmbeddings(model_id=\"amazon.titan-embed-text-v2:0\", client=bedrock_client)\n"
   ]
  },
  {
   "cell_type": "markdown",
   "id": "1c336de9",
   "metadata": {},
   "source": [
    "#### 3.1 Knowledge Base 실행 역할 업데이트"
   ]
  },
  {
   "cell_type": "code",
   "execution_count": null,
   "id": "aeac148b",
   "metadata": {},
   "outputs": [],
   "source": [
    "# Before using autogenerated filters - update the knowledge base execution IAM role with right permissions\n",
    "\n",
    "iam = boto3.resource('iam')\n",
    "client = boto3.client('iam')\n",
    "\n",
    "def get_attached_policies(role_name):\n",
    "    response = client.list_attached_role_policies(RoleName=role_name)\n",
    "    attached_policies = response['AttachedPolicies']\n",
    "    return attached_policies\n",
    "\n",
    "# get the knowledge base IAM role name\n",
    "get_kb_response = bedrock_agent_client.get_knowledge_base(knowledgeBaseId = kb_id)\n",
    "role_arn = get_kb_response['knowledgeBase']['roleArn']\n",
    "role_name = role_arn.split('/')[-1]\n",
    "\n",
    "# get attached policies\n",
    "attached_policies = get_attached_policies(role_name)\n",
    "attached_policies\n",
    "\n",
    "def update_kb_execution_role(attached_policies, region_name):\n",
    "    \n",
    "    for policy in attached_policies:\n",
    "\n",
    "        print(policy['PolicyArn'])\n",
    "        policy_name = policy['PolicyName']\n",
    "        policy_arn = policy['PolicyArn']\n",
    "\n",
    "        if 'FoundationModel' in policy_arn:\n",
    "            print('Updating FoundationModel policy: ',policy_arn)\n",
    "            policy = iam.Policy(policy_arn)\n",
    "            version = policy.default_version\n",
    "            policyJson = version.document\n",
    "            policyJson['Statement'][0]['Resource'].append(f'arn:aws:bedrock:{region}::foundation-model/{TEXT_GENERATION_MODEL_ID}')\n",
    "            policyJson['Statement'][0]['Resource'].append(f'arn:aws:bedrock:{region}::foundation-model/{EVALUATION_MODEL_ID}')  \n",
    "            policyJson['Statement'][0]['Resource'].append(f'arn:aws:bedrock:{region}::foundation-model/{AMAZON_RERANKER_MODEL_ID}') \n",
    "            policyJson['Statement'][0]['Resource'].append(f'arn:aws:bedrock:{region}::foundation-model/{COHERE_RERANKER_MODEL_ID}') \n",
    "        \n",
    "            client.detach_role_policy(RoleName=role_name,\n",
    "                PolicyArn=policy_arn)\n",
    "            \n",
    "            response = client.delete_policy(\n",
    "                PolicyArn=policy_arn\n",
    "            )\n",
    "            print(response)\n",
    "           \n",
    "            response = client.create_policy(\n",
    "            PolicyName= policy_name,\n",
    "            PolicyDocument=json.dumps(policyJson)\n",
    "            )\n",
    "            print(response)\n",
    "        \n",
    "        client.attach_role_policy(\n",
    "            RoleName=role_name,\n",
    "            PolicyArn=policy_arn\n",
    "        )"
   ]
  },
  {
   "cell_type": "code",
   "execution_count": null,
   "id": "b3521cb4",
   "metadata": {},
   "outputs": [],
   "source": [
    "update_kb_execution_role(attached_policies, region)\n",
    "# time.sleep(30)"
   ]
  },
  {
   "cell_type": "markdown",
   "id": "529118c5",
   "metadata": {},
   "source": [
    "#### 3.2 Retrieve and Generate 구성 사용자 지정"
   ]
  },
  {
   "cell_type": "code",
   "execution_count": null,
   "id": "df68891d",
   "metadata": {},
   "outputs": [],
   "source": [
    "def retrieve_and_generate(query, reranker_model=None, kb_id=None, TEXT_GENERATION_MODEL_ID=None, metadata_filters=None):\n",
    "    \n",
    "    # Prepare retrieval configuration\n",
    "    retrieval_config = {\n",
    "        \"vectorSearchConfiguration\": {\n",
    "            \"numberOfResults\": 30 if reranker_model else 3\n",
    "        }\n",
    "    }\n",
    "\n",
    "    if reranker_model:\n",
    "        retrieval_config[\"vectorSearchConfiguration\"][\"rerankingConfiguration\"] = {\n",
    "            \"type\": \"BEDROCK_RERANKING_MODEL\",\n",
    "            \"bedrockRerankingConfiguration\": {\n",
    "                \"modelConfiguration\": {\n",
    "                    \"modelArn\": f'arn:aws:bedrock:{region}::foundation-model/{reranker_model}',\n",
    "                },\n",
    "                \"numberOfRerankedResults\": 3\n",
    "            }\n",
    "        }\n",
    "\n",
    "        if metadata_filters:\n",
    "            retrieval_config[\"vectorSearchConfiguration\"][\"rerankingConfiguration\"][\"bedrockRerankingConfiguration\"][\"metadataConfiguration\"] = {\n",
    "                                                                \"selectionMode\" : \"SELECTIVE\",\n",
    "                                                                \"selectiveModeConfiguration\" : {\n",
    "                                                                    \"fieldsToInclude\": [{\n",
    "                                                                        \"fieldName\": \"year\",\n",
    "                                                                    }]\n",
    "                                                                }\n",
    "                                                            }\n",
    "                    \n",
    "\n",
    "    # Call the retrieve and generate API\n",
    "    start = time.time()\n",
    "    response = bedrock_agent_runtime_client.retrieve_and_generate(\n",
    "        input={'text': query},\n",
    "        retrieveAndGenerateConfiguration={\n",
    "            'type': 'KNOWLEDGE_BASE',\n",
    "            'knowledgeBaseConfiguration': {\n",
    "                'knowledgeBaseId': kb_id,\n",
    "                'modelArn': f'arn:aws:bedrock:{region}::foundation-model/{TEXT_GENERATION_MODEL_ID}',\n",
    "                'retrievalConfiguration': retrieval_config,\n",
    "            },\n",
    "        }\n",
    "    )\n",
    "    time_spent = time.time() - start\n",
    "\n",
    "    print(f\"[Response] : {response['output']['text']}\\n\")\n",
    "    print(f\"[Invocation time] : {time_spent}\\n\")\n",
    "\n",
    "    return response\n"
   ]
  },
  {
   "cell_type": "markdown",
   "id": "fdc724b4",
   "metadata": {},
   "source": [
    "#### 3.3 평가용 데이터 세트 준비"
   ]
  },
  {
   "cell_type": "code",
   "execution_count": null,
   "id": "b086554a",
   "metadata": {},
   "outputs": [],
   "source": [
    "from datasets import Dataset\n",
    "from ragas import evaluate\n",
    "from ragas.metrics import (\n",
    "    answer_correctness\n",
    ")\n",
    "\n",
    "#specify the metrics here\n",
    "metrics = [\n",
    "    answer_correctness\n",
    "]\n",
    "\n",
    "questions = [\n",
    "    \"How many jobs did Amazon create in 2020, and what was its total global workforce after this expansion?\",\n",
    "    \"How does the 2023 net sales mix reflect Amazon's global priorities and strategic investments across segments?\"\n",
    "]\n",
    "ground_truths = [\n",
    "    \"Amazon added 500,000 jobs in 2020, bringing its total workforce to approximately 1.3 million employees worldwide.\",\n",
    "    \"Amazon's 2023 net sales mix highlights its global priorities, with North America contributing 61%, International 23%, and AWS 16% of total sales. Year-over-year growth in each segment—12% for North America, 11% for International, and 13% for AWS—was driven by increased unit sales, advertising services, and subscription offerings. These trends reflect Amazon's balanced approach to expanding its core markets, strengthening its international presence, and investing in AWS's innovative cloud services to sustain long-term growth.\"\n",
    "    ]"
   ]
  },
  {
   "cell_type": "code",
   "execution_count": null,
   "id": "4ff26dda",
   "metadata": {},
   "outputs": [],
   "source": [
    "def prepare_eval_dataset(questions, ground_truths, kb_id=None, TEXT_GENERATION_MODEL_ID=None, reranker_model=None, metadata_filters = None):\n",
    "    answers = []\n",
    "    contexts = []\n",
    "    \n",
    "    for query in questions:\n",
    "        response = retrieve_and_generate(\n",
    "            query,\n",
    "            reranker_model=reranker_model,\n",
    "            kb_id=kb_id,\n",
    "            TEXT_GENERATION_MODEL_ID=TEXT_GENERATION_MODEL_ID,\n",
    "            metadata_filters=metadata_filters\n",
    "        )\n",
    "        \n",
    "        answers.append(response[\"output\"][\"text\"])\n",
    "        \n",
    "        context_group = []\n",
    "        for citation in response[\"citations\"]:\n",
    "            context_group.extend([\n",
    "                ref[\"content\"][\"text\"]\n",
    "                for ref in citation[\"retrievedReferences\"]\n",
    "                if \"content\" in ref and \"text\" in ref[\"content\"]\n",
    "            ])\n",
    "        contexts.append(context_group)\n",
    "        time.sleep(15)\n",
    "\n",
    "    # Create dictionary\n",
    "    data = {\n",
    "        \"question\": questions,\n",
    "        \"answer\": answers,\n",
    "        \"contexts\": contexts,\n",
    "        \"ground_truth\": ground_truths\n",
    "    }\n",
    "\n",
    "    # Convert dict to dataset\n",
    "    dataset = Dataset.from_dict(data)\n",
    "    return dataset\n"
   ]
  },
  {
   "cell_type": "markdown",
   "id": "9c51b09a",
   "metadata": {},
   "source": [
    "#### 3.4 재순위 모델 없이 데이터 세트 평가"
   ]
  },
  {
   "cell_type": "code",
   "execution_count": null,
   "id": "84dc3d78",
   "metadata": {},
   "outputs": [],
   "source": [
    "without_reranker_dataset = prepare_eval_dataset(questions, ground_truths, kb_id, TEXT_GENERATION_MODEL_ID, reranker_model=None)"
   ]
  },
  {
   "cell_type": "code",
   "execution_count": null,
   "id": "f9250cce",
   "metadata": {},
   "outputs": [],
   "source": [
    "without_reranker_result = evaluate(\n",
    "    dataset=without_reranker_dataset,\n",
    "    metrics=metrics,\n",
    "    llm=llm_for_evaluation,\n",
    "    embeddings=bedrock_embeddings,\n",
    ")\n",
    "\n",
    "without_reranker_result_df = without_reranker_result.to_pandas()"
   ]
  },
  {
   "cell_type": "markdown",
   "id": "61243e2d",
   "metadata": {},
   "source": [
    "#### 3.5 재순위 모델과 함께 데이터 세트 평가"
   ]
  },
  {
   "cell_type": "code",
   "execution_count": null,
   "id": "92591600",
   "metadata": {},
   "outputs": [],
   "source": [
    "with_reranker_dataset = prepare_eval_dataset(questions, ground_truths, kb_id, TEXT_GENERATION_MODEL_ID, reranker_model=AMAZON_RERANKER_MODEL_ID)"
   ]
  },
  {
   "cell_type": "code",
   "execution_count": null,
   "id": "d9e78450",
   "metadata": {},
   "outputs": [],
   "source": [
    "with_reranker_result = evaluate(\n",
    "dataset=with_reranker_dataset,\n",
    "metrics=metrics,\n",
    "llm=llm_for_evaluation,\n",
    "embeddings=bedrock_embeddings,\n",
    ")\n",
    "\n",
    "with_reranker_result_df = with_reranker_result.to_pandas()"
   ]
  },
  {
   "cell_type": "markdown",
   "id": "a2f2f965",
   "metadata": {},
   "source": [
    "#### 3.4 재순위 모델과 메타데이터 구성을 사용한 데이터 세트 평가"
   ]
  },
  {
   "cell_type": "markdown",
   "id": "29c85464",
   "metadata": {},
   "source": [
    "##### 3.4.1 적재용 메타데이터 준비"
   ]
  },
  {
   "cell_type": "code",
   "execution_count": null,
   "id": "17fe7e6c",
   "metadata": {},
   "outputs": [],
   "source": [
    "import json\n",
    "import re\n",
    "\n",
    "def generate_matadata(data_dir):\n",
    "    \n",
    "    # Loop through all PDF files in the directory\n",
    "    for filename in os.listdir(data_dir):\n",
    "        if not filename.startswith('.DS_Store'):\n",
    "            # Define the metadata dictionary\n",
    "            metadata ={}\n",
    "            \n",
    "            filename= f'{data_dir}/{filename}'\n",
    "            print(filename)\n",
    "            \n",
    "            # Create metadata\n",
    "            metadata[\"company\"] = \"Amazon\"\n",
    "            metadata[\"ticker\"] = \"AMZN\"\n",
    "            metadata[\"year\"] = re.search(r'\\d+', filename.split('/')[-1]).group(0)\n",
    "\n",
    "            # Create a JSON object\n",
    "            json_data = {\"metadataAttributes\": metadata}\n",
    "\n",
    "            # print(json_data)\n",
    "\n",
    "            # Write the JSON object to a file\n",
    "            with open(f\"{filename.replace('.pdf', '.pdf.metadata.json')}\", \"w\") as f:\n",
    "                json.dump(json_data, f)\n"
   ]
  },
  {
   "cell_type": "code",
   "execution_count": null,
   "id": "69a16a17",
   "metadata": {},
   "outputs": [],
   "source": [
    "data_dir = './sec-10-k'\n",
    "generate_matadata(data_dir)"
   ]
  },
  {
   "cell_type": "code",
   "execution_count": null,
   "id": "4ca6d8c0",
   "metadata": {},
   "outputs": [],
   "source": [
    "# upload metadata file to S3\n",
    "upload_directory(\"sec-10-k\", bucket_name)"
   ]
  },
  {
   "cell_type": "markdown",
   "id": "c503656e",
   "metadata": {},
   "source": [
    "##### 3.4.2 메타데이터를 Knowledge Base에 적재"
   ]
  },
  {
   "cell_type": "markdown",
   "id": "576f6fe6",
   "metadata": {},
   "source": [
    "이제 ingestion 작업을 시작합니다. 이미 고정 청킹에서 사용한 것과 동일한 문서를 사용하므로, S3 버킷에 문서를 업로드하는 단계는 건너뜁니다."
   ]
  },
  {
   "cell_type": "code",
   "execution_count": null,
   "id": "bdfb5938",
   "metadata": {},
   "outputs": [],
   "source": [
    "# ensure that the kb is available\n",
    "time.sleep(30)\n",
    "# sync knowledge base\n",
    "knowledge_base_metadata.start_ingestion_job()"
   ]
  },
  {
   "cell_type": "code",
   "execution_count": null,
   "id": "12589fe6",
   "metadata": {},
   "outputs": [],
   "source": [
    "with_reranker_metadata_filters_dataset = prepare_eval_dataset(questions, ground_truths, kb_id, TEXT_GENERATION_MODEL_ID, reranker_model=AMAZON_RERANKER_MODEL_ID, metadata_filters=True)"
   ]
  },
  {
   "cell_type": "code",
   "execution_count": null,
   "id": "21463f6f",
   "metadata": {},
   "outputs": [],
   "source": [
    "with_reranker_metadata_filters_result = evaluate(\n",
    "dataset=with_reranker_metadata_filters_dataset,\n",
    "metrics=metrics,\n",
    "llm=llm_for_evaluation,\n",
    "embeddings=bedrock_embeddings,\n",
    ")\n",
    "\n",
    "with_reranker_metadata_filters_result_df = with_reranker_result.to_pandas()"
   ]
  },
  {
   "cell_type": "markdown",
   "id": "c44ec665",
   "metadata": {},
   "source": [
    "#### 3.5 비교용 데이터 프레임 준비"
   ]
  },
  {
   "cell_type": "code",
   "execution_count": null,
   "id": "f5ca9fc4",
   "metadata": {},
   "outputs": [],
   "source": [
    "import pandas as pd\n",
    "\n",
    "# Create the side-by-side DataFrame\n",
    "comparison_df = pd.DataFrame({\n",
    "    'question': without_reranker_result_df['question'],\n",
    "    'without_reranker_answer': without_reranker_result_df['answer'],\n",
    "    'with_reranker_answer': with_reranker_result_df['answer'],\n",
    "    'with_reranker_metadata_answer': with_reranker_metadata_filters_result_df['answer'],\n",
    "    \n",
    "    'without_reranker_answer_correctness': without_reranker_result_df['answer_correctness'],\n",
    "    'with_reranker_answer_correctness': with_reranker_result_df['answer_correctness'],\n",
    "    'with_reranker_metadata_correctness': with_reranker_metadata_filters_result_df['answer_correctness'],\n",
    "    })"
   ]
  },
  {
   "cell_type": "code",
   "execution_count": null,
   "id": "30363097",
   "metadata": {},
   "outputs": [],
   "source": [
    "pd.options.display.max_colwidth = 1000\n",
    "comparison_df"
   ]
  },
  {
   "cell_type": "code",
   "execution_count": null,
   "id": "a3e83ab3",
   "metadata": {},
   "outputs": [],
   "source": [
    "# Calculate average correctness\n",
    "without_reranker_avg_correctness = without_reranker_result_df['answer_correctness'].mean()\n",
    "with_reranker_avg_correctness = with_reranker_result_df['answer_correctness'].mean()\n",
    "with_reranker_metadata_avg_correctness = with_reranker_metadata_filters_result_df['answer_correctness'].mean()\n",
    "\n",
    "print(f\"\\nAverage Correctness without Reranker: {without_reranker_avg_correctness:.4f}\")\n",
    "print(f\"Average Correctness with Reranker: {with_reranker_avg_correctness:.4f}\")\n",
    "print(f\"Average Correctness with Reranker and metadata filter: {with_reranker_metadata_avg_correctness:.4f}\")"
   ]
  },
  {
   "cell_type": "markdown",
   "id": "5577ab01-5239-4a19-9042-a263e8a3de6b",
   "metadata": {},
   "source": [
    "### 2.7 정리\n",
    "이 노트북에서 만든 리소스를 삭제하려면 아래 셀의 주석을 해제한 뒤 실행하세요."
   ]
  },
  {
   "cell_type": "code",
   "execution_count": null,
   "id": "33f8a07a",
   "metadata": {},
   "outputs": [],
   "source": [
    "# delete local directory\n",
    "import shutil\n",
    "\n",
    "dir_path = \"sec-10-k\" # Replace with the actual path\n",
    "\n",
    "try:\n",
    "    shutil.rmtree(dir_path)\n",
    "    print(f\"Directory '{dir_path}' and its contents have been deleted successfully.\")\n",
    "except FileNotFoundError:\n",
    "    print(f\"Directory '{dir_path}' not found.\")\n",
    "except Exception as e:\n",
    "        print(f\"An error occurred: {e}\")"
   ]
  },
  {
   "cell_type": "code",
   "execution_count": null,
   "id": "9ab05eb1-76c9-47b7-8d28-16ee720966d9",
   "metadata": {
    "tags": []
   },
   "outputs": [],
   "source": [
    "## Empty and delete S3 Bucket\n",
    "\n",
    "objects = s3_client.list_objects(Bucket=bucket_name)  \n",
    "if 'Contents' in objects:\n",
    "    for obj in objects['Contents']:\n",
    "        s3_client.delete_object(Bucket=bucket_name, Key=obj['Key']) \n",
    "s3_client.delete_bucket(Bucket=bucket_name)"
   ]
  },
  {
   "cell_type": "code",
   "execution_count": null,
   "id": "a0cab3a2-e121-4d65-9254-4d318cf428f1",
   "metadata": {
    "tags": []
   },
   "outputs": [],
   "source": [
    "print(\"===============================Knowledge base==============================\")\n",
    "knowledge_base_metadata.delete_kb(delete_s3_bucket=True, delete_iam_roles_and_policies=True)"
   ]
  }
 ],
 "metadata": {
  "availableInstances": [
   {
    "_defaultOrder": 0,
    "_isFastLaunch": true,
    "category": "General purpose",
    "gpuNum": 0,
    "hideHardwareSpecs": false,
    "memoryGiB": 4,
    "name": "ml.t3.medium",
    "vcpuNum": 2
   },
   {
    "_defaultOrder": 1,
    "_isFastLaunch": false,
    "category": "General purpose",
    "gpuNum": 0,
    "hideHardwareSpecs": false,
    "memoryGiB": 8,
    "name": "ml.t3.large",
    "vcpuNum": 2
   },
   {
    "_defaultOrder": 2,
    "_isFastLaunch": false,
    "category": "General purpose",
    "gpuNum": 0,
    "hideHardwareSpecs": false,
    "memoryGiB": 16,
    "name": "ml.t3.xlarge",
    "vcpuNum": 4
   },
   {
    "_defaultOrder": 3,
    "_isFastLaunch": false,
    "category": "General purpose",
    "gpuNum": 0,
    "hideHardwareSpecs": false,
    "memoryGiB": 32,
    "name": "ml.t3.2xlarge",
    "vcpuNum": 8
   },
   {
    "_defaultOrder": 4,
    "_isFastLaunch": true,
    "category": "General purpose",
    "gpuNum": 0,
    "hideHardwareSpecs": false,
    "memoryGiB": 8,
    "name": "ml.m5.large",
    "vcpuNum": 2
   },
   {
    "_defaultOrder": 5,
    "_isFastLaunch": false,
    "category": "General purpose",
    "gpuNum": 0,
    "hideHardwareSpecs": false,
    "memoryGiB": 16,
    "name": "ml.m5.xlarge",
    "vcpuNum": 4
   },
   {
    "_defaultOrder": 6,
    "_isFastLaunch": false,
    "category": "General purpose",
    "gpuNum": 0,
    "hideHardwareSpecs": false,
    "memoryGiB": 32,
    "name": "ml.m5.2xlarge",
    "vcpuNum": 8
   },
   {
    "_defaultOrder": 7,
    "_isFastLaunch": false,
    "category": "General purpose",
    "gpuNum": 0,
    "hideHardwareSpecs": false,
    "memoryGiB": 64,
    "name": "ml.m5.4xlarge",
    "vcpuNum": 16
   },
   {
    "_defaultOrder": 8,
    "_isFastLaunch": false,
    "category": "General purpose",
    "gpuNum": 0,
    "hideHardwareSpecs": false,
    "memoryGiB": 128,
    "name": "ml.m5.8xlarge",
    "vcpuNum": 32
   },
   {
    "_defaultOrder": 9,
    "_isFastLaunch": false,
    "category": "General purpose",
    "gpuNum": 0,
    "hideHardwareSpecs": false,
    "memoryGiB": 192,
    "name": "ml.m5.12xlarge",
    "vcpuNum": 48
   },
   {
    "_defaultOrder": 10,
    "_isFastLaunch": false,
    "category": "General purpose",
    "gpuNum": 0,
    "hideHardwareSpecs": false,
    "memoryGiB": 256,
    "name": "ml.m5.16xlarge",
    "vcpuNum": 64
   },
   {
    "_defaultOrder": 11,
    "_isFastLaunch": false,
    "category": "General purpose",
    "gpuNum": 0,
    "hideHardwareSpecs": false,
    "memoryGiB": 384,
    "name": "ml.m5.24xlarge",
    "vcpuNum": 96
   },
   {
    "_defaultOrder": 12,
    "_isFastLaunch": false,
    "category": "General purpose",
    "gpuNum": 0,
    "hideHardwareSpecs": false,
    "memoryGiB": 8,
    "name": "ml.m5d.large",
    "vcpuNum": 2
   },
   {
    "_defaultOrder": 13,
    "_isFastLaunch": false,
    "category": "General purpose",
    "gpuNum": 0,
    "hideHardwareSpecs": false,
    "memoryGiB": 16,
    "name": "ml.m5d.xlarge",
    "vcpuNum": 4
   },
   {
    "_defaultOrder": 14,
    "_isFastLaunch": false,
    "category": "General purpose",
    "gpuNum": 0,
    "hideHardwareSpecs": false,
    "memoryGiB": 32,
    "name": "ml.m5d.2xlarge",
    "vcpuNum": 8
   },
   {
    "_defaultOrder": 15,
    "_isFastLaunch": false,
    "category": "General purpose",
    "gpuNum": 0,
    "hideHardwareSpecs": false,
    "memoryGiB": 64,
    "name": "ml.m5d.4xlarge",
    "vcpuNum": 16
   },
   {
    "_defaultOrder": 16,
    "_isFastLaunch": false,
    "category": "General purpose",
    "gpuNum": 0,
    "hideHardwareSpecs": false,
    "memoryGiB": 128,
    "name": "ml.m5d.8xlarge",
    "vcpuNum": 32
   },
   {
    "_defaultOrder": 17,
    "_isFastLaunch": false,
    "category": "General purpose",
    "gpuNum": 0,
    "hideHardwareSpecs": false,
    "memoryGiB": 192,
    "name": "ml.m5d.12xlarge",
    "vcpuNum": 48
   },
   {
    "_defaultOrder": 18,
    "_isFastLaunch": false,
    "category": "General purpose",
    "gpuNum": 0,
    "hideHardwareSpecs": false,
    "memoryGiB": 256,
    "name": "ml.m5d.16xlarge",
    "vcpuNum": 64
   },
   {
    "_defaultOrder": 19,
    "_isFastLaunch": false,
    "category": "General purpose",
    "gpuNum": 0,
    "hideHardwareSpecs": false,
    "memoryGiB": 384,
    "name": "ml.m5d.24xlarge",
    "vcpuNum": 96
   },
   {
    "_defaultOrder": 20,
    "_isFastLaunch": false,
    "category": "General purpose",
    "gpuNum": 0,
    "hideHardwareSpecs": true,
    "memoryGiB": 0,
    "name": "ml.geospatial.interactive",
    "supportedImageNames": [
     "sagemaker-geospatial-v1-0"
    ],
    "vcpuNum": 0
   },
   {
    "_defaultOrder": 21,
    "_isFastLaunch": true,
    "category": "Compute optimized",
    "gpuNum": 0,
    "hideHardwareSpecs": false,
    "memoryGiB": 4,
    "name": "ml.c5.large",
    "vcpuNum": 2
   },
   {
    "_defaultOrder": 22,
    "_isFastLaunch": false,
    "category": "Compute optimized",
    "gpuNum": 0,
    "hideHardwareSpecs": false,
    "memoryGiB": 8,
    "name": "ml.c5.xlarge",
    "vcpuNum": 4
   },
   {
    "_defaultOrder": 23,
    "_isFastLaunch": false,
    "category": "Compute optimized",
    "gpuNum": 0,
    "hideHardwareSpecs": false,
    "memoryGiB": 16,
    "name": "ml.c5.2xlarge",
    "vcpuNum": 8
   },
   {
    "_defaultOrder": 24,
    "_isFastLaunch": false,
    "category": "Compute optimized",
    "gpuNum": 0,
    "hideHardwareSpecs": false,
    "memoryGiB": 32,
    "name": "ml.c5.4xlarge",
    "vcpuNum": 16
   },
   {
    "_defaultOrder": 25,
    "_isFastLaunch": false,
    "category": "Compute optimized",
    "gpuNum": 0,
    "hideHardwareSpecs": false,
    "memoryGiB": 72,
    "name": "ml.c5.9xlarge",
    "vcpuNum": 36
   },
   {
    "_defaultOrder": 26,
    "_isFastLaunch": false,
    "category": "Compute optimized",
    "gpuNum": 0,
    "hideHardwareSpecs": false,
    "memoryGiB": 96,
    "name": "ml.c5.12xlarge",
    "vcpuNum": 48
   },
   {
    "_defaultOrder": 27,
    "_isFastLaunch": false,
    "category": "Compute optimized",
    "gpuNum": 0,
    "hideHardwareSpecs": false,
    "memoryGiB": 144,
    "name": "ml.c5.18xlarge",
    "vcpuNum": 72
   },
   {
    "_defaultOrder": 28,
    "_isFastLaunch": false,
    "category": "Compute optimized",
    "gpuNum": 0,
    "hideHardwareSpecs": false,
    "memoryGiB": 192,
    "name": "ml.c5.24xlarge",
    "vcpuNum": 96
   },
   {
    "_defaultOrder": 29,
    "_isFastLaunch": true,
    "category": "Accelerated computing",
    "gpuNum": 1,
    "hideHardwareSpecs": false,
    "memoryGiB": 16,
    "name": "ml.g4dn.xlarge",
    "vcpuNum": 4
   },
   {
    "_defaultOrder": 30,
    "_isFastLaunch": false,
    "category": "Accelerated computing",
    "gpuNum": 1,
    "hideHardwareSpecs": false,
    "memoryGiB": 32,
    "name": "ml.g4dn.2xlarge",
    "vcpuNum": 8
   },
   {
    "_defaultOrder": 31,
    "_isFastLaunch": false,
    "category": "Accelerated computing",
    "gpuNum": 1,
    "hideHardwareSpecs": false,
    "memoryGiB": 64,
    "name": "ml.g4dn.4xlarge",
    "vcpuNum": 16
   },
   {
    "_defaultOrder": 32,
    "_isFastLaunch": false,
    "category": "Accelerated computing",
    "gpuNum": 1,
    "hideHardwareSpecs": false,
    "memoryGiB": 128,
    "name": "ml.g4dn.8xlarge",
    "vcpuNum": 32
   },
   {
    "_defaultOrder": 33,
    "_isFastLaunch": false,
    "category": "Accelerated computing",
    "gpuNum": 4,
    "hideHardwareSpecs": false,
    "memoryGiB": 192,
    "name": "ml.g4dn.12xlarge",
    "vcpuNum": 48
   },
   {
    "_defaultOrder": 34,
    "_isFastLaunch": false,
    "category": "Accelerated computing",
    "gpuNum": 1,
    "hideHardwareSpecs": false,
    "memoryGiB": 256,
    "name": "ml.g4dn.16xlarge",
    "vcpuNum": 64
   },
   {
    "_defaultOrder": 35,
    "_isFastLaunch": false,
    "category": "Accelerated computing",
    "gpuNum": 1,
    "hideHardwareSpecs": false,
    "memoryGiB": 61,
    "name": "ml.p3.2xlarge",
    "vcpuNum": 8
   },
   {
    "_defaultOrder": 36,
    "_isFastLaunch": false,
    "category": "Accelerated computing",
    "gpuNum": 4,
    "hideHardwareSpecs": false,
    "memoryGiB": 244,
    "name": "ml.p3.8xlarge",
    "vcpuNum": 32
   },
   {
    "_defaultOrder": 37,
    "_isFastLaunch": false,
    "category": "Accelerated computing",
    "gpuNum": 8,
    "hideHardwareSpecs": false,
    "memoryGiB": 488,
    "name": "ml.p3.16xlarge",
    "vcpuNum": 64
   },
   {
    "_defaultOrder": 38,
    "_isFastLaunch": false,
    "category": "Accelerated computing",
    "gpuNum": 8,
    "hideHardwareSpecs": false,
    "memoryGiB": 768,
    "name": "ml.p3dn.24xlarge",
    "vcpuNum": 96
   },
   {
    "_defaultOrder": 39,
    "_isFastLaunch": false,
    "category": "Memory Optimized",
    "gpuNum": 0,
    "hideHardwareSpecs": false,
    "memoryGiB": 16,
    "name": "ml.r5.large",
    "vcpuNum": 2
   },
   {
    "_defaultOrder": 40,
    "_isFastLaunch": false,
    "category": "Memory Optimized",
    "gpuNum": 0,
    "hideHardwareSpecs": false,
    "memoryGiB": 32,
    "name": "ml.r5.xlarge",
    "vcpuNum": 4
   },
   {
    "_defaultOrder": 41,
    "_isFastLaunch": false,
    "category": "Memory Optimized",
    "gpuNum": 0,
    "hideHardwareSpecs": false,
    "memoryGiB": 64,
    "name": "ml.r5.2xlarge",
    "vcpuNum": 8
   },
   {
    "_defaultOrder": 42,
    "_isFastLaunch": false,
    "category": "Memory Optimized",
    "gpuNum": 0,
    "hideHardwareSpecs": false,
    "memoryGiB": 128,
    "name": "ml.r5.4xlarge",
    "vcpuNum": 16
   },
   {
    "_defaultOrder": 43,
    "_isFastLaunch": false,
    "category": "Memory Optimized",
    "gpuNum": 0,
    "hideHardwareSpecs": false,
    "memoryGiB": 256,
    "name": "ml.r5.8xlarge",
    "vcpuNum": 32
   },
   {
    "_defaultOrder": 44,
    "_isFastLaunch": false,
    "category": "Memory Optimized",
    "gpuNum": 0,
    "hideHardwareSpecs": false,
    "memoryGiB": 384,
    "name": "ml.r5.12xlarge",
    "vcpuNum": 48
   },
   {
    "_defaultOrder": 45,
    "_isFastLaunch": false,
    "category": "Memory Optimized",
    "gpuNum": 0,
    "hideHardwareSpecs": false,
    "memoryGiB": 512,
    "name": "ml.r5.16xlarge",
    "vcpuNum": 64
   },
   {
    "_defaultOrder": 46,
    "_isFastLaunch": false,
    "category": "Memory Optimized",
    "gpuNum": 0,
    "hideHardwareSpecs": false,
    "memoryGiB": 768,
    "name": "ml.r5.24xlarge",
    "vcpuNum": 96
   },
   {
    "_defaultOrder": 47,
    "_isFastLaunch": false,
    "category": "Accelerated computing",
    "gpuNum": 1,
    "hideHardwareSpecs": false,
    "memoryGiB": 16,
    "name": "ml.g5.xlarge",
    "vcpuNum": 4
   },
   {
    "_defaultOrder": 48,
    "_isFastLaunch": false,
    "category": "Accelerated computing",
    "gpuNum": 1,
    "hideHardwareSpecs": false,
    "memoryGiB": 32,
    "name": "ml.g5.2xlarge",
    "vcpuNum": 8
   },
   {
    "_defaultOrder": 49,
    "_isFastLaunch": false,
    "category": "Accelerated computing",
    "gpuNum": 1,
    "hideHardwareSpecs": false,
    "memoryGiB": 64,
    "name": "ml.g5.4xlarge",
    "vcpuNum": 16
   },
   {
    "_defaultOrder": 50,
    "_isFastLaunch": false,
    "category": "Accelerated computing",
    "gpuNum": 1,
    "hideHardwareSpecs": false,
    "memoryGiB": 128,
    "name": "ml.g5.8xlarge",
    "vcpuNum": 32
   },
   {
    "_defaultOrder": 51,
    "_isFastLaunch": false,
    "category": "Accelerated computing",
    "gpuNum": 1,
    "hideHardwareSpecs": false,
    "memoryGiB": 256,
    "name": "ml.g5.16xlarge",
    "vcpuNum": 64
   },
   {
    "_defaultOrder": 52,
    "_isFastLaunch": false,
    "category": "Accelerated computing",
    "gpuNum": 4,
    "hideHardwareSpecs": false,
    "memoryGiB": 192,
    "name": "ml.g5.12xlarge",
    "vcpuNum": 48
   },
   {
    "_defaultOrder": 53,
    "_isFastLaunch": false,
    "category": "Accelerated computing",
    "gpuNum": 4,
    "hideHardwareSpecs": false,
    "memoryGiB": 384,
    "name": "ml.g5.24xlarge",
    "vcpuNum": 96
   },
   {
    "_defaultOrder": 54,
    "_isFastLaunch": false,
    "category": "Accelerated computing",
    "gpuNum": 8,
    "hideHardwareSpecs": false,
    "memoryGiB": 768,
    "name": "ml.g5.48xlarge",
    "vcpuNum": 192
   },
   {
    "_defaultOrder": 55,
    "_isFastLaunch": false,
    "category": "Accelerated computing",
    "gpuNum": 8,
    "hideHardwareSpecs": false,
    "memoryGiB": 1152,
    "name": "ml.p4d.24xlarge",
    "vcpuNum": 96
   },
   {
    "_defaultOrder": 56,
    "_isFastLaunch": false,
    "category": "Accelerated computing",
    "gpuNum": 8,
    "hideHardwareSpecs": false,
    "memoryGiB": 1152,
    "name": "ml.p4de.24xlarge",
    "vcpuNum": 96
   },
   {
    "_defaultOrder": 57,
    "_isFastLaunch": false,
    "category": "Accelerated computing",
    "gpuNum": 0,
    "hideHardwareSpecs": false,
    "memoryGiB": 32,
    "name": "ml.trn1.2xlarge",
    "vcpuNum": 8
   },
   {
    "_defaultOrder": 58,
    "_isFastLaunch": false,
    "category": "Accelerated computing",
    "gpuNum": 0,
    "hideHardwareSpecs": false,
    "memoryGiB": 512,
    "name": "ml.trn1.32xlarge",
    "vcpuNum": 128
   },
   {
    "_defaultOrder": 59,
    "_isFastLaunch": false,
    "category": "Accelerated computing",
    "gpuNum": 0,
    "hideHardwareSpecs": false,
    "memoryGiB": 512,
    "name": "ml.trn1n.32xlarge",
    "vcpuNum": 128
   }
  ],
  "instance_type": "ml.t3.medium",
  "kernelspec": {
   "display_name": "Python 3 (ipykernel)",
   "language": "python",
   "name": "python3"
  },
  "language_info": {
   "codemirror_mode": {
    "name": "ipython",
    "version": 3
   },
   "file_extension": ".py",
   "mimetype": "text/x-python",
   "name": "python",
   "nbconvert_exporter": "python",
   "pygments_lexer": "ipython3",
   "version": "3.11.11"
  }
 },
 "nbformat": 4,
 "nbformat_minor": 5
}