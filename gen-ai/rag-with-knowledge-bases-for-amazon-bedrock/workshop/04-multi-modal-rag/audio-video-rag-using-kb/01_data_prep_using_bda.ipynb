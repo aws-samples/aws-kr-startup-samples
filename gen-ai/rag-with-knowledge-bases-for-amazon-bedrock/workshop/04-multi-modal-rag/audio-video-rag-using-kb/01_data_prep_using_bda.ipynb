{
 "cells": [
  {
   "cell_type": "markdown",
   "metadata": {
    "vscode": {
     "languageId": "plaintext"
    }
   },
   "source": [
    "# Amazon Bedrock Knowledge Bases - Amazon Bedrock Data Automation을 활용한 오디오·비디오 데이터 준비\n",
    "\n",
    "# 소개\n",
    "\n",
    "이 모듈은 Amazon Bedrock Data Automation(BDA)과 Bedrock Knowledge Bases(KB)를 사용해 멀티모달 Retrieval-Augmented Generation(RAG) 애플리케이션을 구축하는 방법을 설명합니다. 애플리케이션은 비디오와 오디오를 포함한 멀티모달 데이터를 분석하고 인사이트를 생성하도록 설계되었습니다. 자체 데이터 소스의 컨텍스트 정보를 BDA와 결합하면 정확하고 안전한 지능형 검색 생성형 AI 애플리케이션을 만들 수 있습니다.\n",
    "\n",
    "이 노트북은 지능형 검색 애플리케이션을 구축하는 첫 번째 단계로, BDA를 사용해 비디오와 오디오 데이터를 효율적으로 처리하고 KB 임베딩을 위한 컨텍스트 출력물을 생성하는 방법을 보여 줍니다.\n",
    "\n",
    "최신 BDA와 Amazon Bedrock Knowledge Bases의 통합으로, Bedrock Knowledge Bases 데이터 소스의 파서로 BDA를 지정할 수 있습니다.\n",
    "\n",
    "## 주요 기능\n",
    "\n",
    "- Amazon Bedrock Data Automation(BDA): 멀티모달 데이터에서 콘텐츠를 자동으로 추출하는 관리형 서비스입니다. BDA는 문서, 이미지, 오디오, 비디오 등 비정형 멀티모달 콘텐츠에서 유용한 인사이트를 생성하는 통합 멀티모달 추론 API를 제공합니다.\n",
    "\n",
    "- BDA와 함께 RAG 솔루션을 구축하는 Bedrock KB: Amazon Bedrock KB는 BDA를 사용해 멀티모달 콘텐츠를 추출하고, 선택한 임베딩 모델로 의미 임베딩을 생성해 지정된 벡터 스토어에 저장합니다. 이를 통해 텍스트뿐 아니라 이미지, 비디오, 오디오 데이터에 기반한 질문에도 응답을 검색하고 생성할 수 있습니다. 또한 검색 결과에는 시각적 데이터에 대한 출처 정보가 포함되어 투명성과 신뢰도를 높여 줍니다."
   ]
  },
  {
   "cell_type": "markdown",
   "metadata": {},
   "source": [
    "## 사전 요구 사항\n",
    "Amazon Bedrock 콘솔에서 `Anthropic Claude 3 Sonnet`, `Amazon Nova Micro`, `Titan Text Embeddings V2` 모델에 대한 접근 권한을 활성화하세요.\n",
    "\n",
    "이 노트북을 실행하려면 적절한 IAM 역할 권한이 필요합니다. 계정에 있는 기존 IAM 역할을 사용하거나 새 역할을 생성할 수 있으며, 해당 역할에는 BDA, Bedrock KB, IAM 역할 생성, SageMaker, S3 API를 호출할 수 있는 권한이 있어야 합니다.\n",
    "\n",
    "참고: 조직의 보안 정책이 허용한다면 AdministratorAccess IAM 정책을 사용할 수 있습니다.\n",
    "\n",
    "<div class=\"alert alert-block alert-info\">\n",
    "<b>참고:</b> \"Run All Cells\" 옵션 대신 노트북 셀을 하나씩 실행하세요.\n",
    "</div>"
   ]
  },
  {
   "cell_type": "markdown",
   "metadata": {},
   "source": [
    "# 노트북 및 boto3 클라이언트 설정\n",
    "\n",
    "이 단계에서는 노트북 전반에서 사용할 필수 라이브러리를 임포트합니다. Amazon Bedrock Data Automation(BDA)을 boto3와 함께 사용하려면 최신 AWS SDK for Python(boto3) 버전이 필요합니다. Boto3 1.35.96 이상 버전이 요구됩니다.\n",
    "\n",
    "참고: 퍼블릭 프리뷰 출시 시점에는 BDA가 us-west-2 리전에서만 사용 가능합니다."
   ]
  },
  {
   "cell_type": "code",
   "execution_count": null,
   "metadata": {},
   "outputs": [],
   "source": [
    "%pip install --upgrade pip --quiet\n",
    "%pip install -r ../requirements.txt --no-deps --quiet\n",
    "%pip install -r ../requirements.txt --upgrade --quiet"
   ]
  },
  {
   "cell_type": "code",
   "execution_count": null,
   "metadata": {},
   "outputs": [],
   "source": [
    "# restart kernel\n",
    "from IPython.core.display import HTML\n",
    "HTML(\"<script>Jupyter.notebook.kernel.restart()</script>\")"
   ]
  },
  {
   "cell_type": "code",
   "execution_count": null,
   "metadata": {},
   "outputs": [],
   "source": [
    "%load_ext autoreload\n",
    "%autoreload 2\n",
    "\n",
    "import warnings\n",
    "warnings.filterwarnings('ignore')"
   ]
  },
  {
   "cell_type": "markdown",
   "metadata": {},
   "source": [
    "<div class=\"alert alert-block alert-info\">\n",
    "<b>참고:</b> 이 워크숍에서는 \"kb-bda-multimodal-datasource-{account_id}\" 명명 규칙을 따르는 새 S3 버킷을 사용하며, 입력과 출력은 기본 버킷의 \"bda\" 폴더에 저장됩니다.\n",
    "</div>"
   ]
  },
  {
   "cell_type": "code",
   "execution_count": null,
   "metadata": {},
   "outputs": [],
   "source": [
    "import boto3\n",
    "from botocore.exceptions import ClientError\n",
    "import json, uuid\n",
    "from datetime import datetime\n",
    "import time\n",
    "from time import sleep\n",
    "import random\n",
    "from tqdm import tqdm\n",
    "from pathlib import Path\n",
    "from IPython.display import JSON, IFrame, Audio, display, clear_output\n",
    "import IPython.display as display\n",
    "import logging\n",
    "import sys\n",
    "from pathlib import Path\n",
    "\n",
    "# Get current path and go up two parent directories\n",
    "current_path = Path().resolve()\n",
    "parent_path = current_path.parent.parent  # Go up two levels\n",
    "\n",
    "# Add to sys.path if not already there\n",
    "if str(parent_path) not in sys.path:\n",
    "    sys.path.append(str(parent_path))\n",
    "\n",
    "# Now you can import from utils\n",
    "from utils.knowledge_base import BedrockKnowledgeBase\n"
   ]
  },
  {
   "cell_type": "code",
   "execution_count": null,
   "metadata": {},
   "outputs": [],
   "source": [
    "!pip freeze | grep boto3"
   ]
  },
  {
   "cell_type": "code",
   "execution_count": null,
   "metadata": {},
   "outputs": [],
   "source": [
    "#Clients\n",
    "suffix = random.randrange(200, 900)\n",
    "\n",
    "sts_client = boto3.client('sts')\n",
    "account_id = sts_client.get_caller_identity()[\"Account\"]\n",
    "\n",
    "bucket_name_kb = f'bedrock-kb-{suffix}-1' # replace it with your first bucket name.\n",
    "region_name = \"us-west-2\" # can be removed ones BDA is GA and available in other regions.\n",
    "region = region_name\n",
    "\n",
    "s3_client = boto3.client('s3', region_name=region_name)\n",
    "\n",
    "bda_client = boto3.client('bedrock-data-automation', region_name=region_name)\n",
    "bda_runtime_client = boto3.client('bedrock-data-automation-runtime', region_name=region_name)\n",
    "\n",
    "bedrock_agent_client = boto3.client('bedrock-agent')\n",
    "bedrock_agent_runtime_client = boto3.client('bedrock-agent-runtime') \n",
    "\n",
    "logging.basicConfig(format='[%(asctime)s] p%(process)s {%(filename)s:%(lineno)d} %(levelname)s - %(message)s', level=logging.INFO)\n",
    "logger = logging.getLogger(__name__)"
   ]
  },
  {
   "cell_type": "code",
   "execution_count": null,
   "metadata": {},
   "outputs": [],
   "source": [
    "# Function to check if the bucket exists, if not, create the data_bucket\n",
    "from utils.knowledge_base_operators import bucket_exists\n",
    "            \n",
    "# Create S3 bucket for the KB if it doesn't exist\n",
    "if not bucket_exists(bucket_name_kb):\n",
    "    print(f\"Bucket '{bucket_name_kb}' does not exist. Creating it now...\")\n",
    "    if region == \"us-east-1\":\n",
    "        s3_client.create_bucket(Bucket=bucket_name_kb)\n",
    "    else:\n",
    "        s3_client.create_bucket(\n",
    "            Bucket=bucket_name_kb,\n",
    "            CreateBucketConfiguration={'LocationConstraint': region}\n",
    "        )\n",
    "    print(f\"Bucket '{bucket_name_kb}' created successfully.\")\n",
    "else:\n",
    "    print(f\"Bucket '{bucket_name_kb}' already exists.\")\n",
    "\n",
    "\n",
    "bucket_name_input = f's3://{bucket_name_kb}/bda/input'      # DBA input path\n",
    "bucket_name_output = f's3://{bucket_name_kb}/bda/output'    # DBA output path"
   ]
  },
  {
   "cell_type": "markdown",
   "metadata": {},
   "source": [
    "## BDA 프로젝트 생성\n",
    "BDA 작업을 시작하려면 표준 및 사용자 지정 출력 구성을 관리하는 BDA 프로젝트가 필요합니다. 프로젝트는 재사용 가능하므로 동일한 설정을 공유하는 여러 비디오/오디오 파일을 처리할 때 동일한 구성을 적용할 수 있습니다."
   ]
  },
  {
   "cell_type": "code",
   "execution_count": null,
   "metadata": {},
   "outputs": [],
   "source": [
    "project_name= f'bda-workshop-kb-project-{str(uuid.uuid4())[0:4]}'\n",
    "\n",
    "# delete project if it already exists\n",
    "projects_existing = [project for project in bda_client.list_data_automation_projects()[\"projects\"] if project[\"projectName\"] == project_name]\n",
    "if len(projects_existing) >0:\n",
    "    print(f\"Deleting existing project: {projects_existing[0]}\")\n",
    "    bda_client.delete_data_automation_project(projectArn=projects_existing[0][\"projectArn\"])"
   ]
  },
  {
   "cell_type": "code",
   "execution_count": null,
   "metadata": {},
   "outputs": [],
   "source": [
    "#BDA API standard output schema\n",
    "response = bda_client.create_data_automation_project(\n",
    "    projectName=project_name,\n",
    "    projectDescription='BDA video processing project',\n",
    "    projectStage='DEVELOPMENT',\n",
    "    standardOutputConfiguration={\n",
    "        \"video\": {\n",
    "            \"extraction\": {\n",
    "                \"category\": {\n",
    "                    \"state\": \"ENABLED\",\n",
    "                    \"types\": [\"CONTENT_MODERATION\", \"TEXT_DETECTION\", \"TRANSCRIPT\"]\n",
    "                },\n",
    "                \"boundingBox\": {\"state\": \"ENABLED\"}\n",
    "            },\n",
    "            \"generativeField\": {\n",
    "                \"state\": \"ENABLED\",\n",
    "                \"types\": [\"VIDEO_SUMMARY\", \"CHAPTER_SUMMARY\", \"IAB\"]\n",
    "            }\n",
    "        },\n",
    "        \"audio\": {\n",
    "            \"extraction\": {\n",
    "                \"category\": {\n",
    "                    \"state\": \"ENABLED\", \n",
    "                    \"types\": [\"AUDIO_CONTENT_MODERATION\", \"TOPIC_CONTENT_MODERATION\", \"TRANSCRIPT\"]\n",
    "                }\n",
    "            },\n",
    "            \"generativeField\": {\n",
    "                \"state\": \"ENABLED\",\n",
    "                \"types\": [\"AUDIO_SUMMARY\", \"TOPIC_SUMMARY\", \"IAB\"]\n",
    "            }\n",
    "        }\n",
    "    }\n",
    ")"
   ]
  },
  {
   "cell_type": "code",
   "execution_count": null,
   "metadata": {},
   "outputs": [],
   "source": [
    "kb_project_arn = response.get(\"projectArn\")\n",
    "print(\"BDA kb project ARN:\", kb_project_arn)"
   ]
  },
  {
   "cell_type": "code",
   "execution_count": null,
   "metadata": {},
   "outputs": [],
   "source": [
    " # Upload an audio file\n",
    "from IPython.display import Audio,Video, display\n",
    "\n",
    "file_name_audio = '../../synthetic_dataset/podcastdemo.mp3'\n",
    "object_name_audio = f'bda/input/{file_name_audio}'\n",
    "\n",
    "s3_client.upload_file(file_name_audio, bucket_name_kb, object_name_audio)\n",
    "\n",
    "file_name_video = '../../synthetic_dataset/bda.m4v'\n",
    "object_name_video = f'bda/input/{file_name_video}'\n",
    "\n",
    "s3_client.upload_file(file_name_video, bucket_name_kb, object_name_video)"
   ]
  },
  {
   "cell_type": "code",
   "execution_count": null,
   "metadata": {},
   "outputs": [],
   "source": [
    "# Load and play an MP3 file\n",
    "display(Audio(file_name_audio, autoplay=True))"
   ]
  },
  {
   "cell_type": "code",
   "execution_count": null,
   "metadata": {},
   "outputs": [],
   "source": [
    "# Load and play an MP4 file\n",
    "#Video(file_name_video,embed=True)\n",
    "\n",
    "from IPython.display import HTML\n",
    "from utils.knowledge_base_operators import play\n",
    "\n",
    "\n",
    "play(file_name_video)"
   ]
  },
  {
   "cell_type": "markdown",
   "metadata": {},
   "source": [
    "### BDA 작업 시작\n",
    "이제 BDA API를 호출해 업로드한 오디오 파일을 처리합니다. 실습 시작 시 생성한 BDA 프로젝트 ARN을 제공하고, BDA 결과를 저장할 S3 위치를 지정해야 합니다.\n",
    "\n",
    "BDA 비동기 작업을 호출하는 전체 API 레퍼런스는 [문서](https://boto3.amazonaws.com/v1/documentation/api/latest/reference/services/bedrock-data-automation-runtime/client/invoke_data_automation_async.html)를 참고하세요."
   ]
  },
  {
   "cell_type": "code",
   "execution_count": null,
   "metadata": {},
   "outputs": [],
   "source": [
    "# Start BDA task audio\n",
    "\n",
    "input_name = object_name_audio\n",
    "output_name = f'bda/output/' \n",
    "\n",
    "response_aud = bda_runtime_client.invoke_data_automation_async(\n",
    "            inputConfiguration={'s3Uri':  f\"s3://{bucket_name_kb}/{input_name}\"},\n",
    "            outputConfiguration={'s3Uri': f\"s3://{bucket_name_kb}/{output_name}\"},\n",
    "            dataAutomationProfileArn= f'arn:aws:bedrock:us-west-2:{account_id}:data-automation-profile/us.data-automation-v1',\n",
    "            dataAutomationConfiguration={\n",
    "                'dataAutomationProjectArn':kb_project_arn,\n",
    "                #'dataAutomationArn': kb_project_arn,\n",
    "                'stage': 'DEVELOPMENT'\n",
    "            })\n",
    "response_aud"
   ]
  },
  {
   "cell_type": "code",
   "execution_count": null,
   "metadata": {},
   "outputs": [],
   "source": [
    "invocation_audio_arn = response_aud.get(\"invocationArn\")\n",
    "print(\"BDA audio task started:\", invocation_audio_arn)"
   ]
  },
  {
   "cell_type": "code",
   "execution_count": null,
   "metadata": {},
   "outputs": [],
   "source": [
    "# Start BDA task video\n",
    "input_name = object_name_video\n",
    "output_name = f'bda/output/' \n",
    "\n",
    "response_vid = bda_runtime_client.invoke_data_automation_async(\n",
    "    inputConfiguration={'s3Uri':  f\"s3://{bucket_name_kb}/{object_name_video}\"},\n",
    "    outputConfiguration={'s3Uri': f\"s3://{bucket_name_kb}/{output_name}\"},\n",
    "    dataAutomationProfileArn= f'arn:aws:bedrock:us-west-2:{account_id}:data-automation-profile/us.data-automation-v1',\n",
    "    dataAutomationConfiguration={\n",
    "        'dataAutomationProjectArn':kb_project_arn,\n",
    "        'stage': 'DEVELOPMENT'\n",
    "    })\n",
    "\n",
    "response_vid"
   ]
  },
  {
   "cell_type": "code",
   "execution_count": null,
   "metadata": {},
   "outputs": [],
   "source": [
    "invocation_video_arn = response_vid.get(\"invocationArn\")\n",
    "print(\"BDA video task started:\", invocation_video_arn)"
   ]
  },
  {
   "cell_type": "markdown",
   "metadata": {},
   "source": [
    "### 아래 코드 셀을 실행해 BDA 작업 실행 상태를 모니터링할 수 있습니다"
   ]
  },
  {
   "cell_type": "code",
   "execution_count": null,
   "metadata": {},
   "outputs": [],
   "source": [
    "statusAudio,statusVideo, status_aud_response, status_vid_response = None, None, None, None\n",
    "while (statusAudio not in [\"Success\",\"ServiceError\",\"ClientError\"]) or (statusVideo not in [\"Success\",\"ServiceError\",\"ClientError\"]):\n",
    "    status_aud_response = bda_runtime_client.get_data_automation_status(\n",
    "        invocationArn=invocation_audio_arn\n",
    "    )\n",
    "    statusAudio = status_aud_response.get(\"status\")\n",
    "    clear_output(wait=True)\n",
    "   # print(f\"{datetime.now().strftime('%H:%M:%S')} : BDA kb audio task: {statusAudio}\")\n",
    "    \n",
    "    status_vid_response = bda_runtime_client.get_data_automation_status(\n",
    "        invocationArn=invocation_video_arn\n",
    "    )\n",
    "    statusVideo = status_vid_response.get(\"status\")\n",
    "    clear_output(wait=True)\n",
    "    print(f\"{datetime.now().strftime('%H:%M:%S')} : \"\\\n",
    "          f\"BDA kb video task: {statusVideo} \"\\\n",
    "          f\"BDA kb audio task: {statusAudio}\")\n",
    "    time.sleep(5)\n",
    "\n",
    "output_aud_config = status_aud_response.get(\"outputConfiguration\",{}).get(\"s3Uri\")\n",
    "print(\"Ouput configuration file:\", output_aud_config)\n",
    "\n",
    "output_vid_config = status_vid_response.get(\"outputConfiguration\",{}).get(\"s3Uri\")\n",
    "print(\"Ouput configuration file:\", output_vid_config)"
   ]
  },
  {
   "cell_type": "markdown",
   "metadata": {},
   "source": [
    "# 처리된 오디오 파일에 대한 BDA 출력 살펴보기"
   ]
  },
  {
   "cell_type": "code",
   "execution_count": null,
   "metadata": {},
   "outputs": [],
   "source": [
    "out_vid_loc = status_vid_response['outputConfiguration']['s3Uri'].split(\"/job_metadata.json\", 1)[0].split(bucket_name_kb+\"/\")[1]\n",
    "out_vid_loc += \"/0/standard_output/0/result.json\"\n",
    "print(out_vid_loc)\n",
    "s3_client.download_file(bucket_name_kb, out_vid_loc, 'result_vid.json')"
   ]
  },
  {
   "cell_type": "code",
   "execution_count": null,
   "metadata": {},
   "outputs": [],
   "source": [
    "data_vid = json.load(open('result_vid.json'))\n",
    "print(data_vid[\"video\"][\"summary\"])"
   ]
  },
  {
   "cell_type": "code",
   "execution_count": null,
   "metadata": {},
   "outputs": [],
   "source": [
    "#download audio data file\n",
    "out_aud_loc = status_aud_response['outputConfiguration']['s3Uri'].split(\"/job_metadata.json\", 1)[0].split(bucket_name_kb+\"/\")[1]\n",
    "out_aud_loc += \"/0/standard_output/0/result.json\"\n",
    "print(out_aud_loc)\n",
    "s3_client.download_file(bucket_name_kb, out_aud_loc, 'result_aud.json')"
   ]
  },
  {
   "cell_type": "markdown",
   "metadata": {},
   "source": [
    "## 결론\n",
    "축하합니다! 이 노트북을 따라 BDA를 사용해 비디오와 오디오 파일을 처리했으며, 다음 노트북인 02_audio_video_rag_kb에서 필요에 맞는 강력한 멀티모달 RAG 애플리케이션을 구축할 준비가 되었습니다."
   ]
  },
  {
   "cell_type": "code",
   "execution_count": null,
   "metadata": {},
   "outputs": [],
   "source": []
  }
 ],
 "metadata": {
  "kernelspec": {
   "display_name": "bedrock_env",
   "language": "python",
   "name": "python3"
  },
  "language_info": {
   "codemirror_mode": {
    "name": "ipython",
    "version": 3
   },
   "file_extension": ".py",
   "mimetype": "text/x-python",
   "name": "python",
   "nbconvert_exporter": "python",
   "pygments_lexer": "ipython3",
   "version": "3.10.13"
  }
 },
 "nbformat": 4,
 "nbformat_minor": 4
}