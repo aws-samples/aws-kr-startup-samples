{
 "cells": [
  {
   "cell_type": "markdown",
   "id": "9e3f8924-01d4-4702-b548-aa33dda5d11d",
   "metadata": {},
   "source": [
    "# Amazon Bedrock Knowledge Bases로 구현하는 Graph RAG\n",
    "이 모듈에서는 Amazon Bedrock Knowledge Bases와 Retrieval-Augmented Generation(RAG)을 결합해 그래프 데이터를 더해 정확하고 문맥 있는 설명 가능한 응답을 제공하는 방법을 학습합니다.\n",
    "\n",
    "다음 단계에서는 Amazon Bedrock Knowledge Bases와 GraphRAG를 함께 사용해 생성형 AI 애플리케이션을 향상시키는 절차를 안내합니다.\n",
    "이 모듈의 구성은 다음과 같습니다:\n",
    "1. [Overview](#Overview)\n",
    "2. [Pre-requisites](#Pre-requisites)\n",
    "3. [Setup](#Setup)\n",
    "4. [Create KB with Amazon Neptune as vector](#Create-KB-with-Amazon-Neptune-vector)\n",
    "5. [Test the Knowledge Graph](#Test-the-Knowledge-Graph)"
   ]
  },
  {
   "cell_type": "markdown",
   "id": "75464c27-0c7a-4fe8-b6f0-ddce7c96209b",
   "metadata": {},
   "source": [
    "## Overview\n",
    "Amazon Bedrock Knowledge Bases는 Amazon Neptune과 연동되는 완전관리형 GraphRAG 기능을 제공합니다. 이 기능은 그래프와 RAG 기법을 결합해 생성형 AI 애플리케이션이 더 정확하고 포괄적인 응답을 제공하도록 돕습니다.\n",
    "\n",
    "GraphRAG는 Amazon Bedrock Knowledge Bases에 적재된 문서 전반에서 관련 엔터티와 구조적 요소(예: 섹션 제목 등) 간의 관계를 자동으로 식별하고 활용합니다. 이를 통해 여러 문서 청크에 걸친 데이터 연결과 추론이 필요한 상황에서도 더 관련성 높은 응답을 제공할 수 있습니다.\n",
    "\n",
    "Amazon Bedrock Knowledge Bases는 Amazon Neptune 그래프의 생성과 관리를 자동으로 처리하므로, 그래프 기법 전문 지식이 없어도 엔드유저에게 관련 응답을 제공할 수 있습니다.\n",
    "\n",
    "GraphRAG를 사용하는 Amazon Bedrock Knowledge Bases의 이점은 다음과 같습니다:\n",
    "\n",
    "- 관련 엔터티와 문서 섹션의 컨텍스트 정보를 활용해 더 관련성 높은 응답 제공\n",
    "\n",
    "- 불필요한 정보는 제외하고 데이터 소스의 핵심 콘텐츠를 반영해 더 나은 요약 제공\n",
    "\n",
    "- 데이터 세트의 다양한 엔터티 간 관계를 이해하고 인용을 제공함으로써 설명 가능한 응답 제공\n",
    "\n",
    "**참고**: GraphRAG는 Amazon Bedrock Knowledge Bases와 Amazon Neptune Analytics가 모두 제공되는 AWS 리전에서 사용할 수 있습니다.\n",
    "\n",
    "- 이 모듈에서는 최대 결과 수와 프롬프트 커스터마이징 기능을 활용하기 위해 Anthropic Claude 3 Haiku 모델을 Foundation Model로 사용합니다."
   ]
  },
  {
   "cell_type": "markdown",
   "id": "d09998e7-6062-4edb-9348-bbe54026a101",
   "metadata": {
    "tags": []
   },
   "source": [
    "## Pre-requisites\n",
    "질문에 답하려면 문서를 처리해 Knowledge Base에 저장해야 합니다. 이 노트북에서는 Amazon Bedrock Knowledge Bases를 생성하기 위해 `synthetic dataset for 10K financial reports`를 사용합니다. \n",
    "\n",
    "1. 문서(데이터 소스)를 Amazon S3 버킷에 업로드합니다."
   ]
  },
  {
   "cell_type": "markdown",
   "id": "79a68ef2-f670-451f-9399-343570489b95",
   "metadata": {},
   "source": [
    "## Setup"
   ]
  },
  {
   "cell_type": "code",
   "execution_count": null,
   "id": "c1608ffd-60f5-459b-ba2e-174209ff7537",
   "metadata": {
    "tags": []
   },
   "outputs": [],
   "source": [
    "%pip install --upgrade pip --quiet\n",
    "%pip install -r ../requirements.txt --no-deps --quiet\n",
    "%pip install -r ../requirements.txt --upgrade --quiet"
   ]
  },
  {
   "cell_type": "code",
   "execution_count": null,
   "id": "0e624a8b-3700-4896-845f-642588e8dd7b",
   "metadata": {
    "tags": []
   },
   "outputs": [],
   "source": [
    "# restart kernel\n",
    "from IPython.core.display import HTML\n",
    "HTML(\"<script>Jupyter.notebook.kernel.restart()</script>\")"
   ]
  },
  {
   "cell_type": "markdown",
   "id": "a3cb27dd-a2de-4e38-aa7b-c315953b9921",
   "metadata": {},
   "source": [
    "### boto3 클라이언트 초기화\n",
    "노트북 전반에 걸쳐 Knowledge Base 기능을 테스트하기 위해 RetrieveAndGenerate를 사용할 예정입니다."
   ]
  },
  {
   "cell_type": "code",
   "execution_count": null,
   "id": "563d853e-2966-47bb-9183-aab31d64e8b7",
   "metadata": {
    "tags": []
   },
   "outputs": [],
   "source": [
    "import json\n",
    "import boto3\n",
    "import pprint\n",
    "import sys\n",
    "from botocore.exceptions import ClientError\n",
    "from botocore.client import Config\n",
    "import time\n",
    "import os\n",
    "import logging\n",
    "\n",
    "# Set the path to import module\n",
    "from pathlib import Path\n",
    "current_path = Path().resolve()\n",
    "current_path = current_path.parent\n",
    "if str(current_path) not in sys.path:\n",
    "    sys.path.append(str(current_path))\n",
    "    \n",
    "from utils.knowledge_base import BedrockKnowledgeBase\n",
    "\n",
    "# Create boto3 session\n",
    "sts_client = boto3.client('sts')\n",
    "boto3_session = boto3.session.Session()\n",
    "region_name = boto3_session.region_name\n",
    "account_id = sts_client.get_caller_identity()['Account']\n",
    "\n",
    "# Create s3 client\n",
    "s3_client = boto3.client('s3')\n",
    "\n",
    "# Create bedrock agent client\n",
    "bedrock_config = Config(connect_timeout=120, read_timeout=120, retries={'max_attempts': 0}, region_name=region_name)\n",
    "bedrock_agent_client = boto3_session.client(\"bedrock-agent-runtime\",\n",
    "                              config=bedrock_config)\n",
    "\n",
    "# Define FM to be used for generations \n",
    "model_id = \"anthropic.claude-3-haiku-20240307-v1:0\" # we will be using Anthropic Claude 3 Haiku throughout the notebook\n",
    "model_arn = f'arn:aws:bedrock:{region_name}::foundation-model/{model_id}'\n"
   ]
  },
  {
   "cell_type": "code",
   "execution_count": null,
   "id": "b2004717-61c2-44de-b56d-c146b71f11f3",
   "metadata": {},
   "outputs": [],
   "source": [
    "import time\n",
    "\n",
    "# Get the current timestamp\n",
    "current_time = time.time()\n",
    "\n",
    "# Format the timestamp as a string\n",
    "timestamp_str = time.strftime(\"%Y%m%d%H%M%S\", time.localtime(current_time))[-7:]\n",
    "# Create the suffix using the timestamp\n",
    "suffix = f\"{timestamp_str}\"\n",
    "\n",
    "knowledge_base_name = f\"bedrock-sample-knowledge-base-{suffix}\"\n",
    "knowledge_base_description = \"Graph RAG knowledge base.\"\n",
    "\n",
    "bucket_name = f'{knowledge_base_name}-{account_id}'"
   ]
  },
  {
   "cell_type": "markdown",
   "id": "7ed17bf3-a80f-43c2-877c-366920791792",
   "metadata": {},
   "source": [
    "## Amazon Neptune을 벡터 스토어로 사용하는 Knowledge Base 생성\n",
    "GraphRAG를 구축하려면 벡터 스토어로 Amazon Neptune Analytics를 선택해야 합니다.\n",
    "Knowledge Base는 문서 임베딩과 문서 코퍼스에서 추출한 엔터티 및 관계의 그래프 표현을 자동으로 생성해 Amazon Neptune에 저장합니다.\n",
    "\n",
    "GraphRAG 기반 애플리케이션이 실행되는 동안에도 Knowledge Bases API 작업을 사용해 더욱 포괄적이고 설명 가능한 응답을 제공할 수 있습니다."
   ]
  },
  {
   "cell_type": "code",
   "execution_count": null,
   "id": "96da3b94-6dac-40cb-a596-80843461c04f",
   "metadata": {},
   "outputs": [],
   "source": [
    "data_sources = [{\"type\": \"S3\", \"bucket_name\": bucket_name}]"
   ]
  },
  {
   "cell_type": "code",
   "execution_count": null,
   "id": "31aa139f-00fe-4955-9927-4996f7761937",
   "metadata": {},
   "outputs": [],
   "source": [
    "knowledge_base = BedrockKnowledgeBase(\n",
    "    kb_name=f'{knowledge_base_name}',\n",
    "    kb_description=knowledge_base_description,\n",
    "    data_sources=data_sources,\n",
    "    chunking_strategy = \"GRAPH\", \n",
    "    suffix = f'{suffix}-f',\n",
    "    vector_store=\"NEPTUNE_ANALYTICS\" # can be OPENSEARCH_SERVERLESS or NEPTUNE_ANALYTICS\n",
    ")"
   ]
  },
  {
   "cell_type": "markdown",
   "id": "8cb35e0f-befb-4016-a778-f3a43ab41e42",
   "metadata": {},
   "source": [
    "## Knowledge Base에 적재할 데이터 다운로드\n",
    "다음 데이터를 사용합니다:\n",
    "\n",
    "첫 번째 데이터 소스로 로컬 디렉터리에 저장된 합성 데이터\n",
    "### S3 버킷 데이터 소스에 데이터 업로드"
   ]
  },
  {
   "cell_type": "code",
   "execution_count": null,
   "id": "19d74971-1877-407e-b309-cc3e1a1a3246",
   "metadata": {},
   "outputs": [],
   "source": [
    "import os\n",
    "s3_client = boto3.client('s3')\n",
    "\n",
    "def upload_directory(path, bucket_name):\n",
    "        for root,dirs,files in os.walk(path):\n",
    "            for file in files:\n",
    "                file_to_upload = os.path.join(root,file)\n",
    "                print(f\"uploading file {file_to_upload} to {bucket_name}\")\n",
    "                s3_client.upload_file(file_to_upload,bucket_name,file)\n",
    "\n",
    "upload_directory(\"../synthetic_dataset\", bucket_name)"
   ]
  },
  {
   "cell_type": "markdown",
   "id": "c599ac39-0b0e-4892-848d-42ab63c895ad",
   "metadata": {},
   "source": [
    "## Ingestion 작업 시작\n",
    "Knowledge Base와 데이터 소스를 생성한 후 각 데이터 소스에 대한 ingestion 작업을 시작할 수 있습니다. Ingestion 작업 동안 Knowledge Base는 데이터 소스의 문서를 가져와 텍스트를 추출하고, 지정된 청킹 크기에 따라 분할하며, 각 청크의 임베딩을 생성한 뒤 이번 사례에서는 Neptune Analytics에 해당 임베딩을 저장합니다.\n",
    "\n",
    "참고: 현재는 한 번에 하나의 ingestion 작업만 실행할 수 있습니다."
   ]
  },
  {
   "cell_type": "code",
   "execution_count": null,
   "id": "22422739-cf95-470f-a656-be25b8ee2959",
   "metadata": {},
   "outputs": [],
   "source": [
    "# ensure that the kb is available\n",
    "time.sleep(60)\n",
    "# sync knowledge base\n",
    "knowledge_base.start_ingestion_job()"
   ]
  },
  {
   "cell_type": "code",
   "execution_count": null,
   "id": "308014fd-f6e8-4fd7-ae30-6b86c4374416",
   "metadata": {},
   "outputs": [],
   "source": [
    "# keep the kb_id for invocation later in the invoke request\n",
    "kb_id = knowledge_base.get_knowledge_base_id()\n",
    "%store kb_id"
   ]
  },
  {
   "cell_type": "markdown",
   "id": "40d40848-f11e-4853-bfdc-c8f14a1e5994",
   "metadata": {},
   "source": [
    "## 2.2 Amazon Bedrock Knowledge Bases로 생성된 Knowledge Graph 테스트\n",
    "사용 사례에 따라 `retrieve` 또는 `retrieve_and_generate` API를 사용해 Amazon Bedrock Knowledge Bases가 생성한 `Neptune Analytics` 그래프를 질의할 수 있습니다.\n",
    "\n",
    "### Retrieve and Generate API로 Knowledge Base 테스트\n",
    "먼저 `retrieve_and_generate` API를 사용해 테스트합니다. 이 API는 Amazon Bedrock Knowledge Bases가 생성한 `Neptune Analytics` 그래프를 질의해 검색 결과를 가져오고, 프롬프트와 결합한 뒤 제공된 Foundation Model로 응답을 생성합니다. \n",
    "\n",
    "`query = Provide a summary of consolidated statements of cash flows of Octank Financial for the fiscal years ended December 31, 2019.`\n",
    "\n",
    "해당 질의의 정답(ground truth QA 쌍 기준)은 다음과 같습니다:\n",
    "\n",
    "```\n",
    "According to the consolidated statements of cash flows, in the fiscal year ended December 31, 2019, Octank Financial had:\n",
    "- Net cash provided by operating activities of $710 million\n",
    "- Net cash used in investing activities of $240 million\n",
    "- Net cash provided by financing activities of $350 million\n",
    "- An overall net increase in cash and cash equivalents of $120 million\n",
    "```\n",
    "\n",
    "**참고**: 선택한 모델에 따라 실제 응답은 다를 수 있지만 의미적으로는 유사해야 합니다. "
   ]
  },
  {
   "cell_type": "code",
   "execution_count": null,
   "id": "c5878231-6993-4590-af39-f0102872f390",
   "metadata": {},
   "outputs": [],
   "source": [
    "query = \"Provide a summary of consolidated statements of cash flows of Octank Financial for the fiscal years ended December 31, 2019?\"\n"
   ]
  },
  {
   "cell_type": "code",
   "execution_count": null,
   "id": "46fce99e-27bd-49d5-bd35-530be199c5c4",
   "metadata": {},
   "outputs": [],
   "source": [
    "# foundation_model = \"amazon.nova-micro-v1:0\"\n",
    "\n",
    "response = bedrock_agent_client.retrieve_and_generate(\n",
    "    input={\n",
    "        \"text\": query\n",
    "    },\n",
    "    retrieveAndGenerateConfiguration={\n",
    "        \"type\": \"KNOWLEDGE_BASE\",\n",
    "        \"knowledgeBaseConfiguration\": {\n",
    "            'knowledgeBaseId': kb_id,\n",
    "            \"modelArn\": model_arn,\n",
    "            \"retrievalConfiguration\": {\n",
    "                \"vectorSearchConfiguration\": {\n",
    "                    \"numberOfResults\":5\n",
    "                } \n",
    "            }\n",
    "        }\n",
    "    }\n",
    ")\n",
    "\n",
    "print(response['output']['text'],end='\\n'*2)\n"
   ]
  },
  {
   "cell_type": "markdown",
   "id": "064ef04f-1d21-488a-b58b-8977f32e51af",
   "metadata": {},
   "source": [
    "Retrieve and Generate API를 사용하면 최종 응답을 바로 받게 되므로, 응답에 사용된 다양한 소스를 확인할 수 없습니다. 이제 Retrieve API로 Knowledge Base의 소스 정보를 확인해 보겠습니다."
   ]
  },
  {
   "cell_type": "markdown",
   "id": "187a19ea-f0ae-4961-adf7-51971841da99",
   "metadata": {},
   "source": [
    "### Retrieve API로 Knowledge Base 테스트\n",
    "추가적인 제어가 필요하면 Retrieve API를 사용해 질의와 가장 잘 일치하는 청크를 가져올 수 있습니다. 벡터 스토어가 `Neptune Analytics`이므로, Retrieve API는 그래프를 질의해 관련 청크(검색 결과)를 가져옵니다. 이 설정에서는 원하는 결과 수를 구성하고 자체 애플리케이션 로직으로 최종 응답을 제어할 수 있습니다. API는 일치하는 콘텐츠, 해당 S3 위치, 유사도 점수, 청크 메타데이터를 제공합니다."
   ]
  },
  {
   "cell_type": "code",
   "execution_count": null,
   "id": "fe94869c-5cde-4934-9369-e9abe7707bcb",
   "metadata": {},
   "outputs": [],
   "source": [
    "response_ret = bedrock_agent_client.retrieve(\n",
    "    knowledgeBaseId=kb_id, \n",
    "    nextToken='string',\n",
    "    retrievalConfiguration={\n",
    "        \"vectorSearchConfiguration\": {\n",
    "            \"numberOfResults\":5,\n",
    "        } \n",
    "    },\n",
    "    retrievalQuery={\n",
    "        \"text\": \"How many new positions were opened across Amazon's fulfillment and delivery network?\"\n",
    "    }\n",
    ")\n",
    "\n",
    "def response_print(retrieve_resp):\n",
    "#structure 'retrievalResults': list of contents. Each list has content, location, score, metadata\n",
    "    for num,chunk in enumerate(response_ret['retrievalResults'],1):\n",
    "        print(f'Chunk {num}: ',chunk['content']['text'],end='\\n'*2)\n",
    "        print(f'Chunk {num} Location: ',chunk['location'],end='\\n'*2)\n",
    "        print(f'Chunk {num} Score: ',chunk['score'],end='\\n'*2)\n",
    "        print(f'Chunk {num} Metadata: ',chunk['metadata'],end='\\n'*2)\n",
    "\n",
    "response_print(response_ret)\n"
   ]
  },
  {
   "cell_type": "markdown",
   "id": "8978508d-4d96-42eb-9ea2-95c6153d5d39",
   "metadata": {},
   "source": [
    "## 정리\n",
    "아래 섹션의 주석을 해제한 뒤 실행해 모든 리소스를 삭제하세요."
   ]
  },
  {
   "cell_type": "code",
   "execution_count": null,
   "id": "c6dd9960-be10-45e4-b46d-a54e7a79c487",
   "metadata": {},
   "outputs": [],
   "source": [
    "# delete role and policies\n",
    "print(\"===============================Deleting Knowledge Base and associated resources==============================\\n\")\n",
    "knowledge_base.delete_kb(delete_s3_bucket=True, delete_iam_roles_and_policies=True)"
   ]
  },
  {
   "cell_type": "markdown",
   "id": "94385593",
   "metadata": {},
   "source": [
    "<div class=\"alert alert-block alert-warning\">\n",
    "<b>참고:</b> 비용이 발생하지 않도록 KB, OSS 인덱스 및 관련 IAM 역할과 정책을 반드시 삭제하세요.\n",
    "</div>"
   ]
  }
 ],
 "metadata": {
  "availableInstances": [
   {
    "_defaultOrder": 0,
    "_isFastLaunch": true,
    "category": "General purpose",
    "gpuNum": 0,
    "hideHardwareSpecs": false,
    "memoryGiB": 4,
    "name": "ml.t3.medium",
    "vcpuNum": 2
   },
   {
    "_defaultOrder": 1,
    "_isFastLaunch": false,
    "category": "General purpose",
    "gpuNum": 0,
    "hideHardwareSpecs": false,
    "memoryGiB": 8,
    "name": "ml.t3.large",
    "vcpuNum": 2
   },
   {
    "_defaultOrder": 2,
    "_isFastLaunch": false,
    "category": "General purpose",
    "gpuNum": 0,
    "hideHardwareSpecs": false,
    "memoryGiB": 16,
    "name": "ml.t3.xlarge",
    "vcpuNum": 4
   },
   {
    "_defaultOrder": 3,
    "_isFastLaunch": false,
    "category": "General purpose",
    "gpuNum": 0,
    "hideHardwareSpecs": false,
    "memoryGiB": 32,
    "name": "ml.t3.2xlarge",
    "vcpuNum": 8
   },
   {
    "_defaultOrder": 4,
    "_isFastLaunch": true,
    "category": "General purpose",
    "gpuNum": 0,
    "hideHardwareSpecs": false,
    "memoryGiB": 8,
    "name": "ml.m5.large",
    "vcpuNum": 2
   },
   {
    "_defaultOrder": 5,
    "_isFastLaunch": false,
    "category": "General purpose",
    "gpuNum": 0,
    "hideHardwareSpecs": false,
    "memoryGiB": 16,
    "name": "ml.m5.xlarge",
    "vcpuNum": 4
   },
   {
    "_defaultOrder": 6,
    "_isFastLaunch": false,
    "category": "General purpose",
    "gpuNum": 0,
    "hideHardwareSpecs": false,
    "memoryGiB": 32,
    "name": "ml.m5.2xlarge",
    "vcpuNum": 8
   },
   {
    "_defaultOrder": 7,
    "_isFastLaunch": false,
    "category": "General purpose",
    "gpuNum": 0,
    "hideHardwareSpecs": false,
    "memoryGiB": 64,
    "name": "ml.m5.4xlarge",
    "vcpuNum": 16
   },
   {
    "_defaultOrder": 8,
    "_isFastLaunch": false,
    "category": "General purpose",
    "gpuNum": 0,
    "hideHardwareSpecs": false,
    "memoryGiB": 128,
    "name": "ml.m5.8xlarge",
    "vcpuNum": 32
   },
   {
    "_defaultOrder": 9,
    "_isFastLaunch": false,
    "category": "General purpose",
    "gpuNum": 0,
    "hideHardwareSpecs": false,
    "memoryGiB": 192,
    "name": "ml.m5.12xlarge",
    "vcpuNum": 48
   },
   {
    "_defaultOrder": 10,
    "_isFastLaunch": false,
    "category": "General purpose",
    "gpuNum": 0,
    "hideHardwareSpecs": false,
    "memoryGiB": 256,
    "name": "ml.m5.16xlarge",
    "vcpuNum": 64
   },
   {
    "_defaultOrder": 11,
    "_isFastLaunch": false,
    "category": "General purpose",
    "gpuNum": 0,
    "hideHardwareSpecs": false,
    "memoryGiB": 384,
    "name": "ml.m5.24xlarge",
    "vcpuNum": 96
   },
   {
    "_defaultOrder": 12,
    "_isFastLaunch": false,
    "category": "General purpose",
    "gpuNum": 0,
    "hideHardwareSpecs": false,
    "memoryGiB": 8,
    "name": "ml.m5d.large",
    "vcpuNum": 2
   },
   {
    "_defaultOrder": 13,
    "_isFastLaunch": false,
    "category": "General purpose",
    "gpuNum": 0,
    "hideHardwareSpecs": false,
    "memoryGiB": 16,
    "name": "ml.m5d.xlarge",
    "vcpuNum": 4
   },
   {
    "_defaultOrder": 14,
    "_isFastLaunch": false,
    "category": "General purpose",
    "gpuNum": 0,
    "hideHardwareSpecs": false,
    "memoryGiB": 32,
    "name": "ml.m5d.2xlarge",
    "vcpuNum": 8
   },
   {
    "_defaultOrder": 15,
    "_isFastLaunch": false,
    "category": "General purpose",
    "gpuNum": 0,
    "hideHardwareSpecs": false,
    "memoryGiB": 64,
    "name": "ml.m5d.4xlarge",
    "vcpuNum": 16
   },
   {
    "_defaultOrder": 16,
    "_isFastLaunch": false,
    "category": "General purpose",
    "gpuNum": 0,
    "hideHardwareSpecs": false,
    "memoryGiB": 128,
    "name": "ml.m5d.8xlarge",
    "vcpuNum": 32
   },
   {
    "_defaultOrder": 17,
    "_isFastLaunch": false,
    "category": "General purpose",
    "gpuNum": 0,
    "hideHardwareSpecs": false,
    "memoryGiB": 192,
    "name": "ml.m5d.12xlarge",
    "vcpuNum": 48
   },
   {
    "_defaultOrder": 18,
    "_isFastLaunch": false,
    "category": "General purpose",
    "gpuNum": 0,
    "hideHardwareSpecs": false,
    "memoryGiB": 256,
    "name": "ml.m5d.16xlarge",
    "vcpuNum": 64
   },
   {
    "_defaultOrder": 19,
    "_isFastLaunch": false,
    "category": "General purpose",
    "gpuNum": 0,
    "hideHardwareSpecs": false,
    "memoryGiB": 384,
    "name": "ml.m5d.24xlarge",
    "vcpuNum": 96
   },
   {
    "_defaultOrder": 20,
    "_isFastLaunch": false,
    "category": "General purpose",
    "gpuNum": 0,
    "hideHardwareSpecs": true,
    "memoryGiB": 0,
    "name": "ml.geospatial.interactive",
    "supportedImageNames": [
     "sagemaker-geospatial-v1-0"
    ],
    "vcpuNum": 0
   },
   {
    "_defaultOrder": 21,
    "_isFastLaunch": true,
    "category": "Compute optimized",
    "gpuNum": 0,
    "hideHardwareSpecs": false,
    "memoryGiB": 4,
    "name": "ml.c5.large",
    "vcpuNum": 2
   },
   {
    "_defaultOrder": 22,
    "_isFastLaunch": false,
    "category": "Compute optimized",
    "gpuNum": 0,
    "hideHardwareSpecs": false,
    "memoryGiB": 8,
    "name": "ml.c5.xlarge",
    "vcpuNum": 4
   },
   {
    "_defaultOrder": 23,
    "_isFastLaunch": false,
    "category": "Compute optimized",
    "gpuNum": 0,
    "hideHardwareSpecs": false,
    "memoryGiB": 16,
    "name": "ml.c5.2xlarge",
    "vcpuNum": 8
   },
   {
    "_defaultOrder": 24,
    "_isFastLaunch": false,
    "category": "Compute optimized",
    "gpuNum": 0,
    "hideHardwareSpecs": false,
    "memoryGiB": 32,
    "name": "ml.c5.4xlarge",
    "vcpuNum": 16
   },
   {
    "_defaultOrder": 25,
    "_isFastLaunch": false,
    "category": "Compute optimized",
    "gpuNum": 0,
    "hideHardwareSpecs": false,
    "memoryGiB": 72,
    "name": "ml.c5.9xlarge",
    "vcpuNum": 36
   },
   {
    "_defaultOrder": 26,
    "_isFastLaunch": false,
    "category": "Compute optimized",
    "gpuNum": 0,
    "hideHardwareSpecs": false,
    "memoryGiB": 96,
    "name": "ml.c5.12xlarge",
    "vcpuNum": 48
   },
   {
    "_defaultOrder": 27,
    "_isFastLaunch": false,
    "category": "Compute optimized",
    "gpuNum": 0,
    "hideHardwareSpecs": false,
    "memoryGiB": 144,
    "name": "ml.c5.18xlarge",
    "vcpuNum": 72
   },
   {
    "_defaultOrder": 28,
    "_isFastLaunch": false,
    "category": "Compute optimized",
    "gpuNum": 0,
    "hideHardwareSpecs": false,
    "memoryGiB": 192,
    "name": "ml.c5.24xlarge",
    "vcpuNum": 96
   },
   {
    "_defaultOrder": 29,
    "_isFastLaunch": true,
    "category": "Accelerated computing",
    "gpuNum": 1,
    "hideHardwareSpecs": false,
    "memoryGiB": 16,
    "name": "ml.g4dn.xlarge",
    "vcpuNum": 4
   },
   {
    "_defaultOrder": 30,
    "_isFastLaunch": false,
    "category": "Accelerated computing",
    "gpuNum": 1,
    "hideHardwareSpecs": false,
    "memoryGiB": 32,
    "name": "ml.g4dn.2xlarge",
    "vcpuNum": 8
   },
   {
    "_defaultOrder": 31,
    "_isFastLaunch": false,
    "category": "Accelerated computing",
    "gpuNum": 1,
    "hideHardwareSpecs": false,
    "memoryGiB": 64,
    "name": "ml.g4dn.4xlarge",
    "vcpuNum": 16
   },
   {
    "_defaultOrder": 32,
    "_isFastLaunch": false,
    "category": "Accelerated computing",
    "gpuNum": 1,
    "hideHardwareSpecs": false,
    "memoryGiB": 128,
    "name": "ml.g4dn.8xlarge",
    "vcpuNum": 32
   },
   {
    "_defaultOrder": 33,
    "_isFastLaunch": false,
    "category": "Accelerated computing",
    "gpuNum": 4,
    "hideHardwareSpecs": false,
    "memoryGiB": 192,
    "name": "ml.g4dn.12xlarge",
    "vcpuNum": 48
   },
   {
    "_defaultOrder": 34,
    "_isFastLaunch": false,
    "category": "Accelerated computing",
    "gpuNum": 1,
    "hideHardwareSpecs": false,
    "memoryGiB": 256,
    "name": "ml.g4dn.16xlarge",
    "vcpuNum": 64
   },
   {
    "_defaultOrder": 35,
    "_isFastLaunch": false,
    "category": "Accelerated computing",
    "gpuNum": 1,
    "hideHardwareSpecs": false,
    "memoryGiB": 61,
    "name": "ml.p3.2xlarge",
    "vcpuNum": 8
   },
   {
    "_defaultOrder": 36,
    "_isFastLaunch": false,
    "category": "Accelerated computing",
    "gpuNum": 4,
    "hideHardwareSpecs": false,
    "memoryGiB": 244,
    "name": "ml.p3.8xlarge",
    "vcpuNum": 32
   },
   {
    "_defaultOrder": 37,
    "_isFastLaunch": false,
    "category": "Accelerated computing",
    "gpuNum": 8,
    "hideHardwareSpecs": false,
    "memoryGiB": 488,
    "name": "ml.p3.16xlarge",
    "vcpuNum": 64
   },
   {
    "_defaultOrder": 38,
    "_isFastLaunch": false,
    "category": "Accelerated computing",
    "gpuNum": 8,
    "hideHardwareSpecs": false,
    "memoryGiB": 768,
    "name": "ml.p3dn.24xlarge",
    "vcpuNum": 96
   },
   {
    "_defaultOrder": 39,
    "_isFastLaunch": false,
    "category": "Memory Optimized",
    "gpuNum": 0,
    "hideHardwareSpecs": false,
    "memoryGiB": 16,
    "name": "ml.r5.large",
    "vcpuNum": 2
   },
   {
    "_defaultOrder": 40,
    "_isFastLaunch": false,
    "category": "Memory Optimized",
    "gpuNum": 0,
    "hideHardwareSpecs": false,
    "memoryGiB": 32,
    "name": "ml.r5.xlarge",
    "vcpuNum": 4
   },
   {
    "_defaultOrder": 41,
    "_isFastLaunch": false,
    "category": "Memory Optimized",
    "gpuNum": 0,
    "hideHardwareSpecs": false,
    "memoryGiB": 64,
    "name": "ml.r5.2xlarge",
    "vcpuNum": 8
   },
   {
    "_defaultOrder": 42,
    "_isFastLaunch": false,
    "category": "Memory Optimized",
    "gpuNum": 0,
    "hideHardwareSpecs": false,
    "memoryGiB": 128,
    "name": "ml.r5.4xlarge",
    "vcpuNum": 16
   },
   {
    "_defaultOrder": 43,
    "_isFastLaunch": false,
    "category": "Memory Optimized",
    "gpuNum": 0,
    "hideHardwareSpecs": false,
    "memoryGiB": 256,
    "name": "ml.r5.8xlarge",
    "vcpuNum": 32
   },
   {
    "_defaultOrder": 44,
    "_isFastLaunch": false,
    "category": "Memory Optimized",
    "gpuNum": 0,
    "hideHardwareSpecs": false,
    "memoryGiB": 384,
    "name": "ml.r5.12xlarge",
    "vcpuNum": 48
   },
   {
    "_defaultOrder": 45,
    "_isFastLaunch": false,
    "category": "Memory Optimized",
    "gpuNum": 0,
    "hideHardwareSpecs": false,
    "memoryGiB": 512,
    "name": "ml.r5.16xlarge",
    "vcpuNum": 64
   },
   {
    "_defaultOrder": 46,
    "_isFastLaunch": false,
    "category": "Memory Optimized",
    "gpuNum": 0,
    "hideHardwareSpecs": false,
    "memoryGiB": 768,
    "name": "ml.r5.24xlarge",
    "vcpuNum": 96
   },
   {
    "_defaultOrder": 47,
    "_isFastLaunch": false,
    "category": "Accelerated computing",
    "gpuNum": 1,
    "hideHardwareSpecs": false,
    "memoryGiB": 16,
    "name": "ml.g5.xlarge",
    "vcpuNum": 4
   },
   {
    "_defaultOrder": 48,
    "_isFastLaunch": false,
    "category": "Accelerated computing",
    "gpuNum": 1,
    "hideHardwareSpecs": false,
    "memoryGiB": 32,
    "name": "ml.g5.2xlarge",
    "vcpuNum": 8
   },
   {
    "_defaultOrder": 49,
    "_isFastLaunch": false,
    "category": "Accelerated computing",
    "gpuNum": 1,
    "hideHardwareSpecs": false,
    "memoryGiB": 64,
    "name": "ml.g5.4xlarge",
    "vcpuNum": 16
   },
   {
    "_defaultOrder": 50,
    "_isFastLaunch": false,
    "category": "Accelerated computing",
    "gpuNum": 1,
    "hideHardwareSpecs": false,
    "memoryGiB": 128,
    "name": "ml.g5.8xlarge",
    "vcpuNum": 32
   },
   {
    "_defaultOrder": 51,
    "_isFastLaunch": false,
    "category": "Accelerated computing",
    "gpuNum": 1,
    "hideHardwareSpecs": false,
    "memoryGiB": 256,
    "name": "ml.g5.16xlarge",
    "vcpuNum": 64
   },
   {
    "_defaultOrder": 52,
    "_isFastLaunch": false,
    "category": "Accelerated computing",
    "gpuNum": 4,
    "hideHardwareSpecs": false,
    "memoryGiB": 192,
    "name": "ml.g5.12xlarge",
    "vcpuNum": 48
   },
   {
    "_defaultOrder": 53,
    "_isFastLaunch": false,
    "category": "Accelerated computing",
    "gpuNum": 4,
    "hideHardwareSpecs": false,
    "memoryGiB": 384,
    "name": "ml.g5.24xlarge",
    "vcpuNum": 96
   },
   {
    "_defaultOrder": 54,
    "_isFastLaunch": false,
    "category": "Accelerated computing",
    "gpuNum": 8,
    "hideHardwareSpecs": false,
    "memoryGiB": 768,
    "name": "ml.g5.48xlarge",
    "vcpuNum": 192
   },
   {
    "_defaultOrder": 55,
    "_isFastLaunch": false,
    "category": "Accelerated computing",
    "gpuNum": 8,
    "hideHardwareSpecs": false,
    "memoryGiB": 1152,
    "name": "ml.p4d.24xlarge",
    "vcpuNum": 96
   },
   {
    "_defaultOrder": 56,
    "_isFastLaunch": false,
    "category": "Accelerated computing",
    "gpuNum": 8,
    "hideHardwareSpecs": false,
    "memoryGiB": 1152,
    "name": "ml.p4de.24xlarge",
    "vcpuNum": 96
   },
   {
    "_defaultOrder": 57,
    "_isFastLaunch": false,
    "category": "Accelerated computing",
    "gpuNum": 0,
    "hideHardwareSpecs": false,
    "memoryGiB": 32,
    "name": "ml.trn1.2xlarge",
    "vcpuNum": 8
   },
   {
    "_defaultOrder": 58,
    "_isFastLaunch": false,
    "category": "Accelerated computing",
    "gpuNum": 0,
    "hideHardwareSpecs": false,
    "memoryGiB": 512,
    "name": "ml.trn1.32xlarge",
    "vcpuNum": 128
   },
   {
    "_defaultOrder": 59,
    "_isFastLaunch": false,
    "category": "Accelerated computing",
    "gpuNum": 0,
    "hideHardwareSpecs": false,
    "memoryGiB": 512,
    "name": "ml.trn1n.32xlarge",
    "vcpuNum": 128
   }
  ],
  "instance_type": "ml.t3.medium",
  "kernelspec": {
   "display_name": "bedrock_env",
   "language": "python",
   "name": "python3"
  },
  "language_info": {
   "codemirror_mode": {
    "name": "ipython",
    "version": 3
   },
   "file_extension": ".py",
   "mimetype": "text/x-python",
   "name": "python",
   "nbconvert_exporter": "python",
   "pygments_lexer": "ipython3",
   "version": "3.10.13"
  }
 },
 "nbformat": 4,
 "nbformat_minor": 5
}