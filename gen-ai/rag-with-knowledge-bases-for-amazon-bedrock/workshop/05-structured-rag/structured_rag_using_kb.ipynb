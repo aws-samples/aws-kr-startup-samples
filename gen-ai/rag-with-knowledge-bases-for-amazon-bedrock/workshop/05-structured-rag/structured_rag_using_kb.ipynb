{
 "cells": [
  {
   "cell_type": "markdown",
   "metadata": {},
   "source": [
    "\n",
    "# Amazon Bedrock Knowledge Bases로 구현하는 Structured RAG: Amazon Redshift DB를 사용하는 엔드 투 엔드 예제\n",
    "\n",
    "Structured RAG는 Amazon Bedrock Knowledge Bases 고객이 자연어로 Redshift의 구조화된 데이터를 질의하고, 데이터 요약이 포함된 자연어 응답을 받아 질문에 대한 답을 얻을 수 있도록 해줍니다.\n",
    "\n",
    "Amazon Bedrock Knowledge Bases는 고급 자연어 처리를 사용해 자연어 질의를 SQL 질의로 변환하므로, 사용자는 데이터를 이동하거나 사전 처리하지 않고도 소스에서 직접 데이터를 가져올 수 있습니다. 정확한 SQL 질의를 생성하기 위해 Bedrock Knowledge Base는 데이터 소스에 대해 제공된 데이터베이스 스키마, 이전 질의 이력, 기타 컨텍스트 정보를 활용합니다. 자세한 내용은 [문서](https://docs.aws.amazon.com/bedrock/latest/userguide/knowledge-base-build-structured.html)를 참고하세요.\n",
    "\n",
    "이 노트북은 Amazon Bedrock Knowledge Bases와 Redshift를 사용해 Structured RAG를 구축하는 샘플 코드를 제공합니다.\n",
    "\n",
    "#### 절차:\n",
    "- Amazon Redshift 데이터에 접근할 수 있는 필수 권한을 포함한 Knowledge Base 실행 역할을 생성합니다.\n",
    "- Structured database(Redshift 데이터베이스)를 사용하는 knowledge base를 생성합니다.\n",
    "- knowledge base 안에 데이터 소스를 생성합니다.\n",
    "- KB API를 사용해 구조화된 데이터베이스의 메타데이터를 읽어 들이는 ingestion 작업을 시작합니다.\n",
    "\n",
    "메타데이터 추출과 적재가 완료되면 사용자는 자연어 질의를 통해 Amazon Bedrock Knowledge Base API로 구조화된 데이터베이스와 상호작용할 수 있습니다.\n"
   ]
  },
  {
   "cell_type": "markdown",
   "metadata": {},
   "source": [
    "\n",
    "#### 사전 준비 사항\n",
    "이 노트북을 실행하려면 다음이 필요합니다:\n",
    "- 워크그룹이 있는 Redshift Serverless 클러스터 또는 Redshift 프로비저닝 클러스터\n",
    "- 워크그룹 또는 클러스터에 구조화된 데이터가 이미 적재되어 있어야 합니다.\n",
    "- IAM Role, Secrets Manager 사용자 자격 증명, 또는 DB 사용자를 미리 구성해야 합니다.\n",
    "\n",
    "사전 준비 사항에 대한 자세한 내용은 [문서](https://docs.aws.amazon.com/bedrock/latest/userguide/knowledge-base-prereq-structured.html)를 참고하세요.\n"
   ]
  },
  {
   "cell_type": "markdown",
   "metadata": {},
   "source": [
    "\n",
    "### 0 - 설정\n",
    "이후 셀을 실행하기 전에 아래 셀을 먼저 실행하여 필요한 라이브러리를 설치하고 Bedrock에 연결하세요.\n",
    "\n",
    "라이브러리를 설치하는 동안 pip 의존성 오류가 나타나더라도 무시해도 됩니다.\n"
   ]
  },
  {
   "cell_type": "code",
   "execution_count": null,
   "metadata": {},
   "outputs": [],
   "source": [
    "%pip install --upgrade pip --quiet\n",
    "%pip install -r ../requirements.txt --no-deps --quiet\n",
    "%pip install -r ../requirements.txt --upgrade --quiet"
   ]
  },
  {
   "cell_type": "code",
   "execution_count": null,
   "metadata": {},
   "outputs": [],
   "source": [
    "# %pip install --upgrade boto3\n",
    "import boto3\n",
    "print(boto3.__version__)"
   ]
  },
  {
   "cell_type": "code",
   "execution_count": null,
   "metadata": {},
   "outputs": [],
   "source": [
    "# restart kernel\n",
    "from IPython.core.display import HTML\n",
    "HTML(\"<script>Jupyter.notebook.kernel.restart()</script>\")"
   ]
  },
  {
   "cell_type": "code",
   "execution_count": 4,
   "metadata": {},
   "outputs": [],
   "source": [
    "%load_ext autoreload\n",
    "%autoreload 2"
   ]
  },
  {
   "cell_type": "code",
   "execution_count": 5,
   "metadata": {},
   "outputs": [],
   "source": [
    "import warnings\n",
    "warnings.filterwarnings('ignore')"
   ]
  },
  {
   "cell_type": "markdown",
   "metadata": {},
   "source": [
    "\n",
    "이 코드는 설정 과정의 일부이며 다음 작업을 수행합니다:\n",
    "- 상위 디렉터리를 Python 시스템 경로에 추가합니다.\n",
    "- 이후 실행에 필요한 커스텀 모듈인 `utils`의 `BedrockStructuredKnowledgeBase`를 가져옵니다.\n"
   ]
  },
  {
   "cell_type": "code",
   "execution_count": null,
   "metadata": {},
   "outputs": [],
   "source": [
    "import sys\n",
    "import logging\n",
    "from pathlib import Path\n",
    "\n",
    "current_path = Path().resolve()\n",
    "current_path = current_path.parent\n",
    "\n",
    "if str(current_path) not in sys.path:\n",
    "    sys.path.append(str(current_path))\n",
    "\n",
    "# Print sys.path to verify\n",
    "print(sys.path)\n",
    "\n",
    "from utils.structured_knowledge_base import BedrockStructuredKnowledgeBase"
   ]
  },
  {
   "cell_type": "markdown",
   "metadata": {},
   "source": [
    "boto3 클라이언트를 설정하고 초기화합니다."
   ]
  },
  {
   "cell_type": "code",
   "execution_count": null,
   "metadata": {},
   "outputs": [],
   "source": [
    "s3_client = boto3.client('s3')\n",
    "sts_client = boto3.client('sts')\n",
    "session = boto3.session.Session(region_name='us-east-1')\n",
    "region =  session.region_name\n",
    "account_id = sts_client.get_caller_identity()[\"Account\"]\n",
    "bedrock_agent_client = boto3.client('bedrock-agent')\n",
    "bedrock_agent_runtime_client = boto3.client('bedrock-agent-runtime') \n",
    "logging.basicConfig(format='[%(asctime)s] p%(process)s {%(filename)s:%(lineno)d} %(levelname)s - %(message)s', level=logging.INFO)\n",
    "logger = logging.getLogger(__name__)\n",
    "region, account_id"
   ]
  },
  {
   "cell_type": "markdown",
   "metadata": {},
   "source": [
    "Knowledge Base 이름과 기본 모델을 초기화하고 구성합니다. 이 기본 모델은 구조화된 데이터 저장소에서 가져온 레코드를 기반으로 자연어 응답을 생성하는 데 사용됩니다."
   ]
  },
  {
   "cell_type": "code",
   "execution_count": 29,
   "metadata": {},
   "outputs": [],
   "source": [
    "import time\n",
    "\n",
    "# Get the current timestamp\n",
    "current_time = time.time()\n",
    "\n",
    "# Format the timestamp as a string\n",
    "timestamp_str = time.strftime(\"%Y%m%d%H%M%S\", time.localtime(current_time))[-7:]\n",
    "# Create the suffix using the timestamp\n",
    "suffix = f\"{timestamp_str}\"\n",
    "\n",
    "knowledge_base_name = f\"bedrock-sample-structured-kb-{suffix}\"\n",
    "knowledge_base_description = \"Sample Structured KB\"\n",
    "\n",
    "\n",
    "foundation_model = \"anthropic.claude-3-sonnet-20240229-v1:0\""
   ]
  },
  {
   "cell_type": "markdown",
   "metadata": {},
   "source": [
    "Amazon Bedrock Knowledge Bases는 서비스 역할을 사용해 Knowledge Base를 구조화된 데이터 저장소에 연결하고, 해당 저장소에서 데이터를 가져오며, 사용자 질의와 데이터 저장소 구조를 기반으로 SQL 질의를 생성합니다. Redshift Serverless를 사용하는지 Redshift 프로비저닝 클러스터를 사용하는지에 따라 여러 접근 패턴이 있습니다."
   ]
  },
  {
   "cell_type": "markdown",
   "metadata": {},
   "source": [
    "\n",
    "<div class=\"alert alert-block alert-warning\">\n",
    "<b>참고:</b> 아래는 Redshift Serverless와 Redshift Provisioned Cluster에 따라 달라지는 여러 접근 패턴입니다.\n",
    "<br><br>\n",
    "1.   Secrets Manager + Redshift Serverless WorkGroup\n",
    "<br> \n",
    "2.   IAM Role + Redshift Serverless WorkGroup \n",
    "<br>\n",
    "3.   IAM Role + Redshift Cluster\n",
    "<br>\n",
    "4.   Secrets Manager + Redshift Cluster \n",
    "<br>\n",
    "5.   DB user + Redshift Cluster\n",
    "<br>\n",
    "\n",
    "이 노트북에서는 이러한 접근 패턴을 모두 살펴봅니다.\n",
    "</div>\n"
   ]
  },
  {
   "cell_type": "markdown",
   "metadata": {},
   "source": [
    "\n",
    "다음 접근 패턴에 따라 필요한 변수만 초기화하면 됩니다:\n",
    "\n",
    "1. Secrets Manager + Redshift Serverless WorkGroup  \n",
    "`workgroup_id`  \n",
    "`secretArn`\n",
    "\n",
    "2.   IAM Role + Redshift Serverless WorkGroup  \n",
    "`workgroup_id`  \n",
    "`redshiftDBName`\n",
    "\n",
    "3.   IAM Role + Redshift Provisioned Cluster  \n",
    "`provisioned_cluster_identifier`  \n",
    "`provisioned_cluster_dbname`\n",
    "\n",
    "4.   Secrets Manager + Redshift Provisioned Cluster  \n",
    "`provisioned_cluster_identifier`  \n",
    "`provisioned_cluster_dbname`  \n",
    "`provisionedSecretArn`\n",
    "\n",
    "5.   DB user + Redshift Provisioned Cluster  \n",
    "`provisioned_cluster_identifier`  \n",
    "`provisioned_cluster_dbname`  \n",
    "`databaseUser`\n",
    "\n",
    "Knowledge base 구성과 생성된 역할은 이러한 매개변수를 사용해 필요한 구성을 수행합니다. 실행 중 필요한 추가 단계는 이후 절차에서 다룹니다.\n"
   ]
  },
  {
   "cell_type": "markdown",
   "metadata": {},
   "source": [
    "\n",
    "#### Redshift 접근 패턴 선택\n",
    "구성에 맞는 옵션을 선택하세요. \n"
   ]
  },
  {
   "cell_type": "code",
   "execution_count": null,
   "metadata": {},
   "outputs": [],
   "source": [
    "import ipywidgets as widgets\n",
    "from IPython.display import display\n",
    "\n",
    "# Display the choices to the user\n",
    "print(\"Choose your Redshift access pattern:\")\n",
    "print(\"1. Secrets Manager + Redshift Serverless WorkGroup\")\n",
    "print(\"2. IAM Role + Redshift Serverless WorkGroup\")\n",
    "print(\"3. IAM Role + Redshift Provisioned Cluster\")\n",
    "print(\"4. Secrets Manager + Redshift Provisioned Cluster\")\n",
    "print(\"5. DB User + Redshift Provisioned Cluster\")\n",
    "\n",
    "# Create a text input widget\n",
    "choice_widget = widgets.Text(placeholder=\"Enter your choice (1 Only)\")\n",
    "\n",
    "# Display the widget\n",
    "display(choice_widget)\n"
   ]
  },
  {
   "cell_type": "code",
   "execution_count": 31,
   "metadata": {},
   "outputs": [],
   "source": [
    "# Change below variables as needed\n",
    "\n",
    "#Redshift Serverless Cluster configuration details\n",
    "workgroup_id = '<enter-redshift-serverless-workgroup-id>'\n",
    "redshiftDBName = \"<enter-redshift-serverless-database-name\"\n",
    "workgroupArn =  f\"arn:aws:redshift-serverless:{region}:{account_id}:workgroup/{workgroup_id}\"\n",
    "secretArn = \"<enter-secret-key-arn>\"\n",
    "\n",
    "#Redshift Provisioned Cluster configuration details\n",
    "provisioned_cluster_identifier = \"<enter-provisioned-cluster-identifier>\"\n",
    "provisioned_cluster_dbname = \"<enter-provisioned-cluster-database-name>\"\n",
    "#Secrets manager ARN , this value is required to use \"Secrets Manager + Redshift Provisioned Cluster\" access pattern \n",
    "provisionedSecretArn = \"<enter-secret-key-arn>\"\n",
    "#Redshift Database UserName, this value is required to use \"DB User + Redshift Provisioned Cluster\" access pattern\n",
    "databaseUser = \"<enter-db-username>\"\n",
    "\n",
    "# kb Configuration\n",
    "kbConfigParam = {\n",
    "            \"type\": \"SQL\",\n",
    "            \"sqlKnowledgeBaseConfiguration\": {\n",
    "                \"type\": \"REDSHIFT\",\n",
    "                \"redshiftConfiguration\": {\n",
    "                    \"storageConfigurations\": [{\n",
    "                        \"type\": \"REDSHIFT\",\n",
    "                        \"redshiftConfiguration\": {\n",
    "                            \"databaseName\": redshiftDBName\n",
    "                        }\n",
    "                    }],\n",
    "                    \"queryEngineConfiguration\": {\n",
    "                        \"type\": \"SERVERLESS\",\n",
    "                        \"serverlessConfiguration\": {\n",
    "                            \"workgroupArn\": workgroupArn,\n",
    "                            \"authConfiguration\": {}\n",
    "                        }\n",
    "                    }\n",
    "                }\n",
    "            }\n",
    "        }\n",
    "\n",
    "kbProvisionedConfigParam = {\n",
    "    \"type\": \"SQL\",\n",
    "    \"sqlKnowledgeBaseConfiguration\": {\n",
    "        \"type\": \"REDSHIFT\",\n",
    "            \"redshiftConfiguration\": {\n",
    "                \"queryEngineConfiguration\": {\n",
    "                    \"type\": \"PROVISIONED\",\n",
    "                    \"provisionedConfiguration\": {\n",
    "                        \"authConfiguration\": {},\n",
    "                        \"clusterIdentifier\": provisioned_cluster_identifier\n",
    "                    }\n",
    "                },\n",
    "                \"storageConfigurations\": [{\n",
    "                        \"redshiftConfiguration\": {\n",
    "                            \"databaseName\": provisioned_cluster_dbname\n",
    "                        },\n",
    "                        \"type\": \"REDSHIFT\"\n",
    "                }]\n",
    "            } \n",
    "        }  \n",
    "}"
   ]
  },
  {
   "cell_type": "markdown",
   "metadata": {},
   "source": [
    "\n",
    "### 1 - Knowledge Base 생성\n",
    "\n",
    "선택한 접근 패턴에 따라 \n",
    "1. 이 코드는 Knowledge Base 구성을 추가 매개변수로 업데이트합니다. 예를 들어 `IAM Role + Redshift Serverless` 접근 패턴을 선택하면 `[authCofiguration][type]` 매개변수가 \"IAM\"으로 업데이트됩니다.\n",
    "2. 그런 다음 Knowledge Base를 생성합니다 \n"
   ]
  },
  {
   "cell_type": "code",
   "execution_count": null,
   "metadata": {},
   "outputs": [],
   "source": [
    "# Access the entered value\n",
    "access_pattern_choice = int(choice_widget.value)\n",
    "try:\n",
    "    access_pattern_choice = int(choice_widget.value)\n",
    "    if access_pattern_choice ==1:\n",
    "        print(f\"Access pattern:{choice_widget.value}. Secrets Manager + Redshift Serverless WorkGroup\")\n",
    "\n",
    "        kbConfigParam['sqlKnowledgeBaseConfiguration']['redshiftConfiguration']['queryEngineConfiguration']['serverlessConfiguration']['authConfiguration']['type'] = \"USERNAME_PASSWORD\"\n",
    "        kbConfigParam['sqlKnowledgeBaseConfiguration']['redshiftConfiguration']['queryEngineConfiguration']['serverlessConfiguration']['authConfiguration']['usernamePasswordSecretArn'] = secretArn\n",
    "\n",
    "        knowledge_base = BedrockStructuredKnowledgeBase(\n",
    "                        kb_name=f'{knowledge_base_name}',\n",
    "                        kb_description=knowledge_base_description,\n",
    "                        workgroup_arn=workgroupArn,\n",
    "                        secrets_arn = secretArn,\n",
    "                        kbConfigParam = kbConfigParam,\n",
    "                        suffix = f'{suffix}-f'\n",
    "                    )\n",
    "       \n",
    "    elif access_pattern_choice ==2:\n",
    "        print(f\"Access pattern:{choice_widget.value} IAM Role + Redshift Serverless WorkGroup\")\n",
    "\n",
    "        kbConfigParam['sqlKnowledgeBaseConfiguration']['redshiftConfiguration']['queryEngineConfiguration']['serverlessConfiguration']['authConfiguration']['type'] = \"IAM\"\n",
    "        \n",
    "        knowledge_base = BedrockStructuredKnowledgeBase(\n",
    "                        kb_name=f'{knowledge_base_name}',\n",
    "                        kb_description=knowledge_base_description,\n",
    "                        workgroup_arn=workgroupArn,\n",
    "                        kbConfigParam = kbConfigParam,\n",
    "                        suffix = f'{suffix}-f'\n",
    "                    )\n",
    "    \n",
    "    elif access_pattern_choice == 3:\n",
    "        print(f\"Access pattern:{choice_widget.value} IAM Role + Redshift Provisioned Cluster\")\n",
    "\n",
    "        kbProvisionedConfigParam['sqlKnowledgeBaseConfiguration']['redshiftConfiguration']['queryEngineConfiguration']['provisionedConfiguration']['authConfiguration']['type'] = \"IAM\"\n",
    "        \n",
    "        knowledge_base = BedrockStructuredKnowledgeBase(\n",
    "                        kb_name=f'{knowledge_base_name}',\n",
    "                        kb_description=knowledge_base_description,\n",
    "                        cluster_identifier=provisioned_cluster_identifier,\n",
    "                        db_name=provisioned_cluster_dbname,\n",
    "                        kbConfigParam = kbProvisionedConfigParam,\n",
    "                        suffix = f'{suffix}-f'\n",
    "                    )\n",
    "        \n",
    "    elif access_pattern_choice == 4:\n",
    "        print(f\"Access pattern:{choice_widget.value} Secrets Manager + Redshift Provisioned Cluster\")\n",
    "\n",
    "        kbProvisionedConfigParam['sqlKnowledgeBaseConfiguration']['redshiftConfiguration']['queryEngineConfiguration']['provisionedConfiguration']['authConfiguration']['type'] = \"USERNAME_PASSWORD\"\n",
    "        kbProvisionedConfigParam['sqlKnowledgeBaseConfiguration']['redshiftConfiguration']['queryEngineConfiguration']['provisionedConfiguration']['authConfiguration']['usernamePasswordSecretArn'] = provisionedSecretArn\n",
    "        \n",
    "        knowledge_base = BedrockStructuredKnowledgeBase(\n",
    "                        kb_name=f'{knowledge_base_name}',\n",
    "                        kb_description=knowledge_base_description,\n",
    "                        cluster_identifier=provisioned_cluster_identifier,\n",
    "                        db_name=provisioned_cluster_dbname,\n",
    "                        secrets_arn = provisionedSecretArn,\n",
    "                        kbConfigParam = kbProvisionedConfigParam,\n",
    "                        suffix = f'{suffix}-f'\n",
    "                    )  \n",
    "    elif access_pattern_choice == 5:\n",
    "        print(f\"Access pattern:{choice_widget.value} DB User + Redshift Provisioned Cluster\")\n",
    "\n",
    "        kbProvisionedConfigParam['sqlKnowledgeBaseConfiguration']['redshiftConfiguration']['queryEngineConfiguration']['provisionedConfiguration']['authConfiguration']['type'] = \"USERNAME\"\n",
    "        kbProvisionedConfigParam['sqlKnowledgeBaseConfiguration']['redshiftConfiguration']['queryEngineConfiguration']['provisionedConfiguration']['authConfiguration']['databaseUser'] = databaseUser\n",
    "\n",
    "        knowledge_base = BedrockStructuredKnowledgeBase(\n",
    "                        kb_name=f'{knowledge_base_name}',\n",
    "                        kb_description=knowledge_base_description,\n",
    "                        cluster_identifier=provisioned_cluster_identifier,\n",
    "                        db_name=provisioned_cluster_dbname,\n",
    "                        db_user=databaseUser,\n",
    "                        kbConfigParam = kbProvisionedConfigParam,\n",
    "                        suffix = f'{suffix}-f'\n",
    "                    )   \n",
    "    else:\n",
    "        print(\"Invalid choice. Please enter a number between 1 and 2.\")\n",
    "except ValueError:\n",
    "    print(\"Invalid input. Please enter a number.\")"
   ]
  },
  {
   "cell_type": "markdown",
   "metadata": {},
   "source": [
    "\n",
    "### IAM 접근 패턴의 경우, 인증에 사용하는 역할에 데이터베이스 접근 권한 부여\n",
    "\n",
    "아래 예제 SQL 문을 사용해 사용자를 생성하고 권한을 부여할 수 있습니다. 데이터 집합에 필요한 접근 수준에 맞게 GRANT 문을 수정하세요. \n",
    "\n",
    "자세한 단계는 [문서](https://docs.aws.amazon.com/bedrock/latest/userguide/knowledge-base-prereq-structured.html#knowledge-base-prereq-structured-db-access)를 참고하세요.\n"
   ]
  },
  {
   "cell_type": "code",
   "execution_count": null,
   "metadata": {},
   "outputs": [],
   "source": [
    "#Following SQL commands should be executed in Redshift Query Editor\n",
    "print(f'CREATE USER \"IAMR:{knowledge_base.bedrock_kb_execution_role_name}\" WITH PASSWORD DISABLE;')\n",
    "print(f'GRANT SELECT ON ALL tables IN SCHEMA public TO \"IAMR:{knowledge_base.bedrock_kb_execution_role_name}\";')"
   ]
  },
  {
   "cell_type": "markdown",
   "metadata": {},
   "source": [
    "\n",
    "### 2 - Ingestion 작업 시작\n",
    "\n",
    "이 단계에서는 데이터 소스를 동기화하기 위해 ingestion 작업을 시작합니다. \n"
   ]
  },
  {
   "cell_type": "code",
   "execution_count": null,
   "metadata": {},
   "outputs": [],
   "source": [
    "# ensure that the kb is available\n",
    "time.sleep(60)\n",
    "# sync knowledge base\n",
    "knowledge_base.start_ingestion_job()"
   ]
  },
  {
   "cell_type": "code",
   "execution_count": null,
   "metadata": {},
   "outputs": [],
   "source": [
    "# keep the kb_id for invocation later in the invoke request\n",
    "kb_id = knowledge_base.get_knowledge_base_id()\n",
    "%store kb_id"
   ]
  },
  {
   "cell_type": "markdown",
   "metadata": {},
   "source": [
    "\n",
    "### 3 - Structured Knowledge Base 테스트\n",
    "이제 Knowledge Base가 준비되었으므로 [**retrieve**](https://boto3.amazonaws.com/v1/documentation/api/latest/reference/services/bedrock-agent-runtime/client/retrieve.html), [**retrieve_and_generate**](https://boto3.amazonaws.com/v1/documentation/api/latest/reference/services/bedrock-agent-runtime/client/retrieve_and_generate.html), 그리고 [**generate_query**](https://docs.aws.amazon.com/bedrock/latest/APIReference/API_agent-runtime_GenerateQuery.html) 함수를 사용해 시험해 볼 수 있습니다. \n",
    "\n",
    "[**retrieve**](https://boto3.amazonaws.com/v1/documentation/api/latest/reference/services/bedrock-agent-runtime/client/retrieve.html)를 사용하면 응답에 SQL 질의 실행 결과가 포함됩니다. \n",
    "\n",
    "[**retrieve_and_generate**](https://boto3.amazonaws.com/v1/documentation/api/latest/reference/services/bedrock-agent-runtime/client/retrieve_and_generate.html)를 사용하면 SQL 질의 실행 결과를 기반으로 생성된 응답을 받습니다.\n",
    "\n",
    "[**generate_query**](https://docs.aws.amazon.com/bedrock/latest/APIReference/API_agent-runtime_GenerateQuery.html) API를 사용하면 자연어 질의를 SQL로 변환합니다.\n",
    "\n"
   ]
  },
  {
   "cell_type": "code",
   "execution_count": null,
   "metadata": {},
   "outputs": [],
   "source": [
    "query = \"<Enter your sample query here>\""
   ]
  },
  {
   "cell_type": "markdown",
   "metadata": {},
   "source": [
    "#### 3.1 - RetrieveAndGenerate API 사용"
   ]
  },
  {
   "cell_type": "code",
   "execution_count": null,
   "metadata": {},
   "outputs": [],
   "source": [
    "foundation_model = \"anthropic.claude-3-sonnet-20240229-v1:0\"\n",
    "\n",
    "response = bedrock_agent_runtime_client.retrieve_and_generate(\n",
    "    input={\n",
    "        \"text\": query\n",
    "    },\n",
    "    retrieveAndGenerateConfiguration={\n",
    "        \"type\": \"KNOWLEDGE_BASE\",\n",
    "        \"knowledgeBaseConfiguration\": {\n",
    "            'knowledgeBaseId': kb_id,\n",
    "            \"modelArn\": \"arn:aws:bedrock:{}::foundation-model/{}\".format(region, foundation_model),\n",
    "            \"retrievalConfiguration\": {\n",
    "                \"vectorSearchConfiguration\": {\n",
    "                    \"numberOfResults\":5\n",
    "                } \n",
    "            }\n",
    "        }\n",
    "    }\n",
    ")\n",
    "\n",
    "print(response['output']['text'],end='\\n'*2)"
   ]
  },
  {
   "cell_type": "markdown",
   "metadata": {},
   "source": [
    "#### 3.2 - Retrieve API 사용"
   ]
  },
  {
   "cell_type": "code",
   "execution_count": 40,
   "metadata": {},
   "outputs": [],
   "source": [
    "response_ret = bedrock_agent_runtime_client.retrieve(\n",
    "    knowledgeBaseId=kb_id, \n",
    "    nextToken='string',\n",
    "    retrievalConfiguration={\n",
    "        \"vectorSearchConfiguration\": {\n",
    "            \"numberOfResults\":5,\n",
    "        } \n",
    "    },\n",
    "    retrievalQuery={\n",
    "        \"text\": query\n",
    "    }\n",
    ")\n"
   ]
  },
  {
   "cell_type": "code",
   "execution_count": null,
   "metadata": {},
   "outputs": [],
   "source": [
    "import json\n",
    "import pandas as pd\n",
    "\n",
    "# Function to extract retrieved results from Retrieve API response into a pandas dataframe.\n",
    "\n",
    "def response_print(retrieve_resp):\n",
    "\n",
    "    # Extract the retrievalResults list\n",
    "    retrieval_results = retrieve_resp['retrievalResults']\n",
    "\n",
    "    # Dictionary to store the extracted data\n",
    "    extracted_data = {}\n",
    "\n",
    "    # Iterate through each item in retrievalResults\n",
    "    for item in retrieval_results:\n",
    "        row = item['content']['row']\n",
    "        for col in row:\n",
    "            column_name = col['columnName']\n",
    "            column_value = col['columnValue']\n",
    "            \n",
    "            # If this column hasn't been seen before, create a new list for it\n",
    "            if column_name not in extracted_data:\n",
    "                extracted_data[column_name] = []\n",
    "            \n",
    "            # Append the value to the appropriate list\n",
    "            extracted_data[column_name].append(column_value)\n",
    "\n",
    "    # Create a DataFrame from the extracted data\n",
    "    df = pd.DataFrame(extracted_data)\n",
    "\n",
    "    return df\n",
    "    "
   ]
  },
  {
   "cell_type": "code",
   "execution_count": null,
   "metadata": {},
   "outputs": [],
   "source": [
    "# Display the Retrieved results records\n",
    "df = response_print(response_ret)\n",
    "print(df.head())"
   ]
  },
  {
   "cell_type": "markdown",
   "metadata": {},
   "source": [
    "#### 3.3 - Generate Query 사용"
   ]
  },
  {
   "cell_type": "code",
   "execution_count": null,
   "metadata": {},
   "outputs": [],
   "source": [
    "query_response = bedrock_agent_runtime_client.generate_query(\n",
    "    queryGenerationInput={\n",
    "        \"text\": query,\n",
    "        \"type\": \"TEXT\"\n",
    "    },\n",
    "    transformationConfiguration={\n",
    "        \"mode\" : \"TEXT_TO_SQL\",\n",
    "        \"textToSqlConfiguration\": {\n",
    "            \"type\": \"KNOWLEDGE_BASE\",\n",
    "            \"knowledgeBaseConfiguration\": {\n",
    "                \"knowledgeBaseArn\": knowledge_base.knowledge_base['knowledgeBaseArn']\n",
    "            }\n",
    "        }\n",
    "    }\n",
    ")\n",
    "\n",
    "generated_sql = query_response['queries'][0]['sql']\n",
    "generated_sql"
   ]
  },
  {
   "cell_type": "markdown",
   "metadata": {},
   "source": [
    "\n",
    "### 정리\n",
    "아래 섹션의 주석을 해제한 뒤 실행해 리소스를 모두 삭제하세요\n"
   ]
  },
  {
   "cell_type": "code",
   "execution_count": null,
   "metadata": {},
   "outputs": [],
   "source": [
    "# # Delete resources\n",
    "# print(\"===============================Deleteing resources ==============================\\n\")\n",
    "knowledge_base.delete_kb( delete_iam_roles_and_policies=True)"
   ]
  }
 ],
 "metadata": {
  "kernelspec": {
   "display_name": "bedrock_env",
   "language": "python",
   "name": "python3"
  },
  "language_info": {
   "codemirror_mode": {
    "name": "ipython",
    "version": 3
   },
   "file_extension": ".py",
   "mimetype": "text/x-python",
   "name": "python",
   "nbconvert_exporter": "python",
   "pygments_lexer": "ipython3",
   "version": "3.10.13"
  }
 },
 "nbformat": 4,
 "nbformat_minor": 2
}